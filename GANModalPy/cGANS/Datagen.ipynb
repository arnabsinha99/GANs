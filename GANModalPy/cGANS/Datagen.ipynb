{
 "cells": [
  {
   "cell_type": "code",
   "execution_count": 1,
   "metadata": {},
   "outputs": [],
   "source": [
    "import numpy as np\n",
    "import matplotlib.pyplot as plt\n",
    "import torch"
   ]
  },
  {
   "cell_type": "code",
   "execution_count": 2,
   "metadata": {},
   "outputs": [],
   "source": [
    "import numba"
   ]
  },
  {
   "cell_type": "code",
   "execution_count": 2,
   "metadata": {},
   "outputs": [],
   "source": [
    "class Datagen:\n",
    "    def __init__(self,dim,mod,means,stddev,num_points):\n",
    "        self.dim = dim\n",
    "        self.mod = mod\n",
    "        self.means = means\n",
    "        self.stddev = stddev\n",
    "        self.num_points = num_points\n",
    "        self.ids = np.arange(1,self.mod*self.num_points + 1,1)\n",
    "    \n",
    "    def reshape_means(self):\n",
    "        self.means = np.array(self.means).reshape(self.mod,self.dim)\n",
    "    \n",
    "    def reshape_stddev(self):\n",
    "        self.stddev = np.array(self.stddev).reshape(self.mod,self.dim)\n",
    "\n",
    "    def generate_gaussian(self):        \n",
    "        pointsarr = []\n",
    "        for row in range(self.mod):\n",
    "            pointsarr.append(np.random.multivariate_normal(self.means[row],np.diag(self.stddev[row]),self.num_points))\n",
    "        pointsarr = np.concatenate(pointsarr)\n",
    "        return pointsarr  \n",
    "    \n",
    "    def totensor(self,numpyobj):\n",
    "        return torch.tensor(numpyobj)\n",
    "    \n",
    "    def standardize(self,arr):        \n",
    "        arr[:,0] = (arr[:,0]-torch.min(arr[:,0]))/(torch.max(arr[:,0]) - torch.min(arr[:,0]))\n",
    "        arr[:,1] = (arr[:,1]-torch.min(arr[:,1]))/(torch.max(arr[:,1]) - torch.min(arr[:,1]))\n",
    "        return arr"
   ]
  },
  {
   "cell_type": "code",
   "execution_count": 5,
   "metadata": {},
   "outputs": [],
   "source": [
    "dim = 2\n",
    "mod = 3\n",
    "means = [20,20,40,40,80,80]\n",
    "stddev = [1,1,9,9,25,25]\n",
    "points = 1000"
   ]
  },
  {
   "cell_type": "code",
   "execution_count": 122,
   "metadata": {},
   "outputs": [],
   "source": [
    "d_obj = Datagen(dim,mod,means,stddev,points)\n",
    "d_obj.reshape_means()\n",
    "d_obj.reshape_stddev()\n",
    "pointsarr = d_obj.totensor(d_obj.generate_gaussian())"
   ]
  },
  {
   "cell_type": "code",
   "execution_count": 123,
   "metadata": {},
   "outputs": [
    {
     "data": {
      "text/plain": [
       "<matplotlib.collections.PathCollection at 0x1e0948d5fd0>"
      ]
     },
     "execution_count": 123,
     "metadata": {},
     "output_type": "execute_result"
    },
    {
     "data": {
      "image/png": "[encoded data removed]",
      "text/plain": [
       "<Figure size 432x288 with 1 Axes>"
      ]
     },
     "metadata": {},
     "output_type": "display_data"
    }
   ],
   "source": [
    "plt.scatter(pointsarr[:,0],pointsarr[:,1])"
   ]
  },
  {
   "cell_type": "code",
   "execution_count": 124,
   "metadata": {},
   "outputs": [],
   "source": [
    "pointsarr = d_obj.standardize(pointsarr)"
   ]
  },
  {
   "cell_type": "code",
   "execution_count": 125,
   "metadata": {},
   "outputs": [
    {
     "data": {
      "text/plain": [
       "<matplotlib.collections.PathCollection at 0x1e09493b4e0>"
      ]
     },
     "execution_count": 125,
     "metadata": {},
     "output_type": "execute_result"
    },
    {
     "data": {
      "image/png": "[encoded data removed]",
      "text/plain": [
       "<Figure size 432x288 with 1 Axes>"
      ]
     },
     "metadata": {},
     "output_type": "display_data"
    }
   ],
   "source": [
    "plt.scatter(pointsarr[:,0],pointsarr[:,1])"
   ]
  },
  {
   "cell_type": "code",
   "execution_count": 126,
   "metadata": {},
   "outputs": [],
   "source": [
    "pointsarr = np.c_[pointsarr,0.25*pointsarr[:,0] + 0.75*pointsarr[:,1]].astype(np.float32)"
   ]
  },
  {
   "cell_type": "code",
   "execution_count": 127,
   "metadata": {},
   "outputs": [
    {
     "data": {
      "text/plain": [
       "array([[0.03681288, 0.03769518, 0.03747461],\n",
       "       [0.05239159, 0.03334419, 0.03810604],\n",
       "       [0.01840298, 0.02825091, 0.02578893],\n",
       "       ...,\n",
       "       [0.76284033, 0.81155723, 0.799378  ],\n",
       "       [0.86398256, 0.7959673 , 0.8129711 ],\n",
       "       [0.8536513 , 0.6816205 , 0.72462815]], dtype=float32)"
      ]
     },
     "execution_count": 127,
     "metadata": {},
     "output_type": "execute_result"
    }
   ],
   "source": [
    "pointsarr"
   ]
  },
  {
   "cell_type": "code",
   "execution_count": 128,
   "metadata": {},
   "outputs": [],
   "source": [
    "for ind,data in enumerate(pointsarr):\n",
    "    torch.save(pointsarr[ind], 'data/' + str(ind+1) + '.pt')"
   ]
  },
  {
   "cell_type": "code",
   "execution_count": 114,
   "metadata": {},
   "outputs": [
    {
     "data": {
      "text/plain": [
       "(3000, 2)"
      ]
     },
     "execution_count": 114,
     "metadata": {},
     "output_type": "execute_result"
    }
   ],
   "source": [
    "pointsarr[:,0:2].shape"
   ]
  },
  {
   "cell_type": "code",
   "execution_count": 117,
   "metadata": {},
   "outputs": [
    {
     "data": {
      "text/plain": [
       "dtype('float32')"
      ]
     },
     "execution_count": 117,
     "metadata": {},
     "output_type": "execute_result"
    }
   ],
   "source": [
    "pointsarr[0].astype(np.float32).dtype"
   ]
  },
  {
   "cell_type": "markdown",
   "metadata": {},
   "source": [
    "# Test Dataset"
   ]
  },
  {
   "cell_type": "code",
   "execution_count": 6,
   "metadata": {},
   "outputs": [],
   "source": [
    "points_test = 200"
   ]
  },
  {
   "cell_type": "code",
   "execution_count": 9,
   "metadata": {},
   "outputs": [],
   "source": [
    "testdata = Datagen(dim,mod,means,stddev,points_test)\n",
    "testdata.reshape_means()\n",
    "testdata.reshape_stddev()\n",
    "testarray = testdata.totensor(testdata.generate_gaussian())"
   ]
  },
  {
   "cell_type": "code",
   "execution_count": 10,
   "metadata": {},
   "outputs": [],
   "source": [
    "testarray = testdata.standardize(testarray)"
   ]
  },
  {
   "cell_type": "code",
   "execution_count": 13,
   "metadata": {},
   "outputs": [],
   "source": [
    "testarray = np.c_[testarray,0.25*testarray[:,0] + 0.75*testarray[:,1]].astype(np.float32)"
   ]
  },
  {
   "cell_type": "code",
   "execution_count": 16,
   "metadata": {},
   "outputs": [
    {
     "data": {
      "text/plain": [
       "<matplotlib.collections.PathCollection at 0x1e8862a6e10>"
      ]
     },
     "execution_count": 16,
     "metadata": {},
     "output_type": "execute_result"
    },
    {
     "data": {
      "image/png": "[encoded data removed]",
      "text/plain": [
       "<Figure size 432x288 with 1 Axes>"
      ]
     },
     "metadata": {},
     "output_type": "display_data"
    }
   ],
   "source": [
    "plt.scatter(testarray[:,1],testarray[:,2])"
   ]
  },
  {
   "cell_type": "code",
   "execution_count": 17,
   "metadata": {},
   "outputs": [],
   "source": [
    "for ind,data in enumerate(testarray):\n",
    "    torch.save(testarray[ind], 'testdata/' + str(ind+1) + '.pt')"
   ]
  }
 ],
 "metadata": {
  "kernelspec": {
   "display_name": "Python 3",
   "language": "python",
   "name": "python3"
  },
  "language_info": {
   "codemirror_mode": {
    "name": "ipython",
    "version": 3
   },
   "file_extension": ".py",
   "mimetype": "text/x-python",
   "name": "python",
   "nbconvert_exporter": "python",
   "pygments_lexer": "ipython3",
   "version": "3.6.5"
  }
 },
 "nbformat": 4,
 "nbformat_minor": 2
}
