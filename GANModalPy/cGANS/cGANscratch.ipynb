{
 "cells": [
  {
   "cell_type": "code",
   "execution_count": 1,
   "metadata": {},
   "outputs": [],
   "source": [
    "import numpy as np\n",
    "import matplotlib.pyplot as plt\n",
    "%matplotlib inline\n",
    "import torch\n",
    "import random\n",
    "from torch import nn, optim\n",
    "from torch.autograd.variable import Variable\n",
    "import logging as log\n",
    "from torchvision import transforms, datasets\n",
    "BATCH_SIZE = 200\n",
    "DATASET = 3000"
   ]
  },
  {
   "cell_type": "code",
   "execution_count": 2,
   "metadata": {},
   "outputs": [],
   "source": [
    "np.random.seed(0)\n",
    "random.seed(0)\n",
    "torch.manual_seed(0)\n",
    "torch.cuda.manual_seed(0)\n",
    "torch.cuda.manual_seed_all(0)\n",
    "torch.backends.cudnn.enabled = False\n",
    "torch.backends.cudnn.benchmark = False\n",
    "torch.backends.cudnn.deterministic = True"
   ]
  },
  {
   "cell_type": "code",
   "execution_count": 3,
   "metadata": {},
   "outputs": [],
   "source": [
    "class Points:\n",
    "    def __init__(self,ids):\n",
    "        self.ids = ids\n",
    "    def __len__(self):\n",
    "        return len(self.ids)\n",
    "    def __getitem__(self,index):\n",
    "        Id = self.ids[index]\n",
    "        X = torch.load('data/'+str(Id)+'.pt')\n",
    "        return X"
   ]
  },
  {
   "cell_type": "code",
   "execution_count": 4,
   "metadata": {},
   "outputs": [],
   "source": [
    "ids = np.arange(1,DATASET+1,1)\n",
    "training = Points(ids)"
   ]
  },
  {
   "cell_type": "code",
   "execution_count": 5,
   "metadata": {},
   "outputs": [],
   "source": [
    "training_loader = torch.utils.data.DataLoader(training, shuffle = False, batch_size=BATCH_SIZE, worker_init_fn=np.random.seed(0),num_workers=0)\n",
    "num_batches = len(training_loader)"
   ]
  },
  {
   "cell_type": "markdown",
   "metadata": {},
   "source": [
    "# NETWORKS"
   ]
  },
  {
   "cell_type": "code",
   "execution_count": 7,
   "metadata": {},
   "outputs": [],
   "source": [
    "class Generator(nn.Module):\n",
    "    '''\n",
    "    Two hidden layered generator\n",
    "    '''\n",
    "    def __init__(self):\n",
    "        super(Generator,self).__init__()\n",
    "        n_features = 2\n",
    "        n_hidden1 = 10\n",
    "        n_hidden2 = 10\n",
    "        n_out = 3\n",
    "        \n",
    "        self.hidden1 = nn.Sequential(nn.Linear(n_features,n_hidden1),nn.LeakyReLU(0.2))\n",
    "        self.hidden2 = nn.Sequential(nn.Linear(n_hidden1,n_hidden2),nn.LeakyReLU(0.2))\n",
    "        self.out = nn.Sequential(nn.Linear(n_hidden2,n_out),nn.Sigmoid())\n",
    "        \n",
    "    def forward(self,x):\n",
    "        x = self.hidden1(x)\n",
    "        x = self.hidden2(x)\n",
    "        x = self.out(x)\n",
    "        return x    "
   ]
  },
  {
   "cell_type": "code",
   "execution_count": 8,
   "metadata": {},
   "outputs": [],
   "source": [
    "class Discriminator(torch.nn.Module):\n",
    "    '''\n",
    "    Single hidden layer discriminator network\n",
    "    '''\n",
    "    def __init__(self):\n",
    "        super(Discriminator,self).__init__()\n",
    "        n_features = 5\n",
    "        n_hidden1 = 10\n",
    "        n_out = 1\n",
    "        \n",
    "        self.hidden = nn.Sequential(nn.Linear(n_features,n_hidden1),nn.LeakyReLU(0.2),nn.Dropout(0.3))\n",
    "        self.out = nn.Sequential(nn.Linear(n_hidden1,n_out),nn.Sigmoid())\n",
    "        \n",
    "    def forward(self,x):\n",
    "        x = self.hidden(x)\n",
    "        x = self.out(x)\n",
    "        return x"
   ]
  },
  {
   "cell_type": "code",
   "execution_count": 14,
   "metadata": {},
   "outputs": [
    {
     "data": {
      "text/plain": [
       "Generator(\n",
       "  (hidden1): Sequential(\n",
       "    (0): Linear(in_features=2, out_features=10, bias=True)\n",
       "    (1): LeakyReLU(negative_slope=0.2)\n",
       "  )\n",
       "  (hidden2): Sequential(\n",
       "    (0): Linear(in_features=10, out_features=10, bias=True)\n",
       "    (1): LeakyReLU(negative_slope=0.2)\n",
       "  )\n",
       "  (out): Sequential(\n",
       "    (0): Linear(in_features=10, out_features=3, bias=True)\n",
       "    (1): Sigmoid()\n",
       "  )\n",
       ")"
      ]
     },
     "execution_count": 14,
     "metadata": {},
     "output_type": "execute_result"
    }
   ],
   "source": [
    "disc = Discriminator()\n",
    "disc.load_state_dict(torch.load('models/disc_initial.pt'))\n",
    "gen = Generator()\n",
    "gen.load_state_dict(torch.load('models/gen_initial.pt'))\n",
    "disc.cuda()\n",
    "gen.cuda()"
   ]
  },
  {
   "cell_type": "code",
   "execution_count": 10,
   "metadata": {},
   "outputs": [],
   "source": [
    "device = 'cuda' if torch.cuda.is_available() else 'cpu'"
   ]
  },
  {
   "cell_type": "code",
   "execution_count": 16,
   "metadata": {},
   "outputs": [],
   "source": [
    "# for p in disc.parameters():\n",
    "#     print(p)\n",
    "#     print(p.device)"
   ]
  },
  {
   "cell_type": "code",
   "execution_count": 12,
   "metadata": {},
   "outputs": [],
   "source": [
    "# torch.save(gen.state_dict(),'models/gen_initial.pt')\n",
    "# torch.save(disc.state_dict(),'models/disc_initial.pt')"
   ]
  },
  {
   "cell_type": "code",
   "execution_count": 168,
   "metadata": {},
   "outputs": [],
   "source": [
    "# model = Generator()\n",
    "# model.load_state_dict(torch.load('models/model1/gen_initial.pt'))"
   ]
  },
  {
   "cell_type": "markdown",
   "metadata": {},
   "source": [
    "# OPTIMIZER"
   ]
  },
  {
   "cell_type": "code",
   "execution_count": 17,
   "metadata": {},
   "outputs": [],
   "source": [
    "d_opt = optim.Adam(disc.parameters(), lr = 0.0002)\n",
    "g_opt = optim.Adam(gen.parameters(), lr = 0.0002)"
   ]
  },
  {
   "cell_type": "code",
   "execution_count": 49,
   "metadata": {},
   "outputs": [],
   "source": [
    "# torch.save(g_opt.state_dict(),'models/model1/genopt_initial.pt')\n",
    "# torch.save(d_opt.state_dict(),'models/model1/discopt_initial.pt')"
   ]
  },
  {
   "cell_type": "markdown",
   "metadata": {},
   "source": [
    "# CREATING LABELS"
   ]
  },
  {
   "cell_type": "code",
   "execution_count": 18,
   "metadata": {},
   "outputs": [],
   "source": [
    "def real_data_target(size):\n",
    "    o = torch.ones(size,1,dtype = torch.float32,device = device)-.05\n",
    "    return o\n",
    "def fake_data_target(size):\n",
    "    z = torch.zeros(size,1,dtype= torch.float32, device = device)+.05\n",
    "    return z"
   ]
  },
  {
   "cell_type": "markdown",
   "metadata": {},
   "source": [
    "# LOSS FUNCTIONS"
   ]
  },
  {
   "cell_type": "code",
   "execution_count": 34,
   "metadata": {},
   "outputs": [],
   "source": [
    "def loss_l1(a,b):\n",
    "    return torch.mean(torch.abs(a-b),1)\n",
    "loss_bce = torch.nn.BCELoss()"
   ]
  },
  {
   "cell_type": "code",
   "execution_count": 52,
   "metadata": {},
   "outputs": [
    {
     "data": {
      "text/plain": [
       "tensor([[1., 2., 2., 5.],\n",
       "        [1., 2., 2., 6.]])"
      ]
     },
     "execution_count": 52,
     "metadata": {},
     "output_type": "execute_result"
    }
   ],
   "source": [
    "haha = torch.tensor([[1.0,2.0],[1.0,2.0]])\n",
    "hihi = torch.tensor([[2.0,5.0],[2.0,6.0]])\n",
    "torch.cat((haha,hihi),dim = 1)"
   ]
  },
  {
   "cell_type": "markdown",
   "metadata": {},
   "source": [
    "# TRAINING FUNCTIONS"
   ]
  },
  {
   "cell_type": "code",
   "execution_count": 52,
   "metadata": {},
   "outputs": [],
   "source": [
    "def train_discriminator(optimizer, real_data, fake_data):\n",
    "    #set optimizer gradients to zero to store fresh gradients\n",
    "    optimizer.zero_grad()\n",
    "    \n",
    "    #adversarial discriminator loss\n",
    "    prediction_real = disc(real_data) \n",
    "    error_real = loss_bce(prediction_real, real_data_target(real_data.size(0)))\n",
    "\n",
    "    #adversarial generative loss\n",
    "    prediction_fake = disc(fake_data)    \n",
    "    error_fake = loss_bce(prediction_fake, fake_data_target(fake_data.size(0)))\n",
    "    \n",
    "    total_error = (error_real + error_fake)/2\n",
    "\n",
    "    total_error.backward() #backprop\n",
    "    optimizer.step() #update weights\n",
    "    \n",
    "    return (error_real + error_fake)/2, prediction_real, prediction_fake    \n",
    "\n",
    "def train_generator(optimizer, real_data, fake_data, lambda_coeff):\n",
    "    optimizer.zero_grad()\n",
    "    \n",
    "    #content loss\n",
    "    content_loss = loss_mse(real_data, fake_data)\n",
    "\n",
    "    #adversarial generative loss\n",
    "    prediction_fake = disc(fake_data)\n",
    "    adv_loss = loss_bce(prediction_fake, real_data_target(fake_data.size(0)))\n",
    "    \n",
    "    total_gen_loss = content_loss + lambda_coeff*adv_loss\n",
    "    \n",
    "    total_gen_loss.backward() #backprop\n",
    "    optimizer.step() #update weights\n",
    "    \n",
    "    return total_gen_loss"
   ]
  },
  {
   "cell_type": "code",
   "execution_count": 27,
   "metadata": {},
   "outputs": [],
   "source": [
    "errorsd = []\n",
    "errorsg = []"
   ]
  },
  {
   "cell_type": "code",
   "execution_count": 26,
   "metadata": {},
   "outputs": [],
   "source": [
    "EPOCHS = 1\n",
    "lambda_coeff = 0.125 # in the formula content_loss + lambda*adv_loss"
   ]
  },
  {
   "cell_type": "markdown",
   "metadata": {},
   "source": [
    "# TRAINING TIME!"
   ]
  },
  {
   "cell_type": "code",
   "execution_count": 28,
   "metadata": {
    "scrolled": false
   },
   "outputs": [
    {
     "name": "stdout",
     "output_type": "stream",
     "text": [
      "torch.Size([200, 3])\n"
     ]
    }
   ],
   "source": [
    "for epoch in range(EPOCHS):\n",
    "    \n",
    "    g_err_sum = 0.0\n",
    "    d_err_sum = 0.0\n",
    "    \n",
    "    for real_batch in training_loader:\n",
    "    \n",
    "        real_batch = real_batch.cuda()\n",
    "        real_data = real_batch #already has requires_grad = False\n",
    "#         fake_data = gen(real_data[:,0:2])\n",
    "        \n",
    "        #train discriminator\n",
    "        \n",
    "#         d_error, _ ,_ = train_discriminator(d_opt, real_data, fake_data.detach())\n",
    "#         d_err_sum+=d_error\n",
    "        \n",
    "#         #train generator\n",
    "        \n",
    "#         g_error = train_generator(g_opt, real_data, fake_data, lambda_coeff)\n",
    "#         g_err_sum+=g_error\n",
    "    \n",
    "#     errorsd.append(d_err_sum/num_batches)\n",
    "#     errorsg.append(g_err_sum/num_batches)\n",
    "#     if epoch%20==0:\n",
    "#         print(\"Epoch no : {} Discriminator error: {}   Generator error: {}\".format(epoch,d_err_sum/num_batches,g_err_sum/num_batches))"
   ]
  },
  {
   "cell_type": "code",
   "execution_count": 63,
   "metadata": {},
   "outputs": [],
   "source": [
    "torch.save(gen.state_dict(),'models/model9/gen_final.pt')\n",
    "torch.save(disc.state_dict(),'models/model9/disc_final.pt')"
   ]
  },
  {
   "cell_type": "markdown",
   "metadata": {},
   "source": [
    "# PLOTTING"
   ]
  },
  {
   "cell_type": "code",
   "execution_count": 83,
   "metadata": {},
   "outputs": [
    {
     "data": {
      "image/png": "[encoded data removed]",
      "text/plain": [
       "<Figure size 1440x432 with 1 Axes>"
      ]
     },
     "metadata": {},
     "output_type": "display_data"
    }
   ],
   "source": [
    "#graph comparison\n",
    "fig,ax = plt.subplots(figsize = (20,6))\n",
    "ax.plot(errorsd, label = \"Discriminator\")\n",
    "ax.plot(errorsg, label = \"Generator\")\n",
    "ax.set_xlabel('Epochs')\n",
    "ax.set_ylabel('Logloss error')\n",
    "ax.set_title('Trimodal data with mean (20,20), (40,40) and (80,80) and stddev (1,1), (3,3),(5,5) and lambda = 0.125')\n",
    "ax.legend()\n",
    "plt.show()"
   ]
  },
  {
   "cell_type": "code",
   "execution_count": 20,
   "metadata": {},
   "outputs": [],
   "source": [
    "def comparedata(pp):\n",
    "    pp = [list(np.array(x)) for x in pp]  \n",
    "    pp = torch.tensor(pp)\n",
    "    \n",
    "#     print(pp.device)\n",
    "    fig, ax = plt.subplots(1,3,figsize = (20,5))\n",
    "    ax[0].scatter(pp[:,0],pp[:,1])\n",
    "    ax[0].set_title('X-Y Plane')\n",
    "    ax[1].scatter(pp[:,1],pp[:,2])\n",
    "    ax[1].set_title('Y-Z Plane')\n",
    "    ax[2].scatter(pp[:,0],pp[:,2])\n",
    "    ax[2].set_title('X-Z Plane')\n",
    "    \n",
    "#     #gen data\n",
    "    b = gen(pp[:,0:2].cuda()).cpu().detach()\n",
    "#     print(b.device)\n",
    "    fig2, ax2 = plt.subplots(1,3,figsize = (20,5))\n",
    "    ax2[0].scatter(b[:,0],b[:,1],color = 'red')\n",
    "    ax2[0].set_title('X-Y Plane')\n",
    "    ax2[1].scatter(b[:,1],b[:,2],color = 'red')\n",
    "    ax2[1].set_title('Y-Z Plane')\n",
    "    ax2[2].scatter(b[:,0],b[:,2],color = 'red')\n",
    "    ax2[2].set_title('X-Z Plane')\n",
    "#     plt.title('Trimodal data with mean (1,1), (6,6) and (11,11) and stddev (0.5,0.5), (0.6,0.6),(1,1)')\n",
    "    plt.show()"
   ]
  },
  {
   "cell_type": "code",
   "execution_count": 21,
   "metadata": {},
   "outputs": [],
   "source": [
    "pp = []\n",
    "for i in range(DATASET):\n",
    "    pp.append(torch.load('data/'+ str(i+1) + '.pt'))"
   ]
  },
  {
   "cell_type": "code",
   "execution_count": 84,
   "metadata": {},
   "outputs": [
    {
     "data": {
      "image/png": "[encoded data removed]",
      "text/plain": [
       "<Figure size 1440x360 with 3 Axes>"
      ]
     },
     "metadata": {},
     "output_type": "display_data"
    },
    {
     "data": {
      "image/png": "[encoded data removed]",
      "text/plain": [
       "<Figure size 1440x360 with 3 Axes>"
      ]
     },
     "metadata": {},
     "output_type": "display_data"
    }
   ],
   "source": [
    "comparedata(pp)"
   ]
  },
  {
   "cell_type": "markdown",
   "metadata": {},
   "source": [
    "# TESTING TIME!"
   ]
  },
  {
   "cell_type": "code",
   "execution_count": 27,
   "metadata": {},
   "outputs": [],
   "source": [
    "TESTDATASET = 600"
   ]
  },
  {
   "cell_type": "code",
   "execution_count": 28,
   "metadata": {},
   "outputs": [],
   "source": [
    "class TestPoints:\n",
    "    def __init__(self,ids):\n",
    "        self.ids = ids\n",
    "    def __len__(self):\n",
    "        return len(self.ids)\n",
    "    def __getitem__(self,index):\n",
    "        Id = self.ids[index]\n",
    "        X = torch.load('testdata/'+str(Id)+'.pt')\n",
    "        return X"
   ]
  },
  {
   "cell_type": "code",
   "execution_count": 29,
   "metadata": {},
   "outputs": [],
   "source": [
    "ids = np.arange(1,TESTDATASET + 1,1)\n",
    "testdata = TestPoints(ids)"
   ]
  },
  {
   "cell_type": "code",
   "execution_count": 30,
   "metadata": {},
   "outputs": [],
   "source": [
    "test_loader = torch.utils.data.DataLoader(testdata, shuffle = False, batch_size=TESTDATASET,num_workers=0)"
   ]
  },
  {
   "cell_type": "code",
   "execution_count": 31,
   "metadata": {},
   "outputs": [],
   "source": [
    "torch.set_printoptions(precision=10)"
   ]
  },
  {
   "cell_type": "code",
   "execution_count": 85,
   "metadata": {},
   "outputs": [
    {
     "name": "stdout",
     "output_type": "stream",
     "text": [
      "tensor(3.8920759835e-05)\n"
     ]
    }
   ],
   "source": [
    "mseerror = 0.0\n",
    "for testbatch in test_loader:\n",
    "    testbatch = testbatch.cuda()\n",
    "    actual_test = testbatch\n",
    "    predicted_test = gen(testbatch[:,0:2])\n",
    "    mseerror = loss_mse(predicted_test,actual_test)\n",
    "print(mseerror.detach().cpu())"
   ]
  },
  {
   "cell_type": "code",
   "execution_count": null,
   "metadata": {},
   "outputs": [],
   "source": []
  }
 ],
 "metadata": {
  "kernelspec": {
   "display_name": "Python 3",
   "language": "python",
   "name": "python3"
  },
  "language_info": {
   "codemirror_mode": {
    "name": "ipython",
    "version": 3
   },
   "file_extension": ".py",
   "mimetype": "text/x-python",
   "name": "python",
   "nbconvert_exporter": "python",
   "pygments_lexer": "ipython3",
   "version": "3.6.5"
  }
 },
 "nbformat": 4,
 "nbformat_minor": 2
}
