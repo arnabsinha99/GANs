{
 "cells": [
  {
   "cell_type": "code",
   "execution_count": 1,
   "metadata": {},
   "outputs": [],
   "source": [
    "import numpy as np\n",
    "import matplotlib.pyplot as plt\n",
    "%matplotlib inline\n",
    "import torch\n",
    "from torch import nn, optim\n",
    "from torch.autograd.variable import Variable\n",
    "import logging as log\n",
    "from torchvision import transforms, datasets\n",
    "BATCH_SIZE = 250\n",
    "DATASET = 1500"
   ]
  },
  {
   "cell_type": "markdown",
   "metadata": {},
   "source": [
    "# DATASET"
   ]
  },
  {
   "cell_type": "code",
   "execution_count": 2,
   "metadata": {},
   "outputs": [],
   "source": [
    "class GaussianDataset(torch.utils.data.Dataset):\n",
    "    def __init__(self,ids,labels):\n",
    "        self.ids = ids\n",
    "        self.labels = labels\n",
    "    \n",
    "    def __len__(self):\n",
    "        return len(self.ids)\n",
    "    \n",
    "    def __getitem__(self,index):\n",
    "        Id = self.ids[index]\n",
    "        X = torch.load('data/' + str(Id)+'.pt')\n",
    "        y = self.labels[Id]\n",
    "        \n",
    "        return X,y"
   ]
  },
  {
   "cell_type": "code",
   "execution_count": 3,
   "metadata": {},
   "outputs": [],
   "source": [
    "ids = np.arange(1,DATASET + 1,1)\n",
    "labels = np.full(DATASET,1) #simply labels\n",
    "labels = dict([(x,y) for x,y in zip(ids,labels)]) # id to label mapping\n",
    "training = GaussianDataset(ids,labels)"
   ]
  },
  {
   "cell_type": "code",
   "execution_count": 4,
   "metadata": {},
   "outputs": [],
   "source": [
    "training_gen = torch.utils.data.DataLoader(training, batch_size=BATCH_SIZE, shuffle=True, num_workers=0)\n",
    "num_batches = len(training_gen)"
   ]
  },
  {
   "cell_type": "code",
   "execution_count": 5,
   "metadata": {},
   "outputs": [
    {
     "data": {
      "text/plain": [
       "6"
      ]
     },
     "execution_count": 5,
     "metadata": {},
     "output_type": "execute_result"
    }
   ],
   "source": [
    "num_batches"
   ]
  },
  {
   "cell_type": "markdown",
   "metadata": {},
   "source": [
    "# NETWORKS"
   ]
  },
  {
   "cell_type": "code",
   "execution_count": 6,
   "metadata": {},
   "outputs": [],
   "source": [
    "class Discriminator(torch.nn.Module):\n",
    "    '''\n",
    "    Single hidden layer discriminator network\n",
    "    '''\n",
    "    def __init__(self):\n",
    "        super(Discriminator,self).__init__()\n",
    "        n_features = 2\n",
    "        n_hidden1 = 10\n",
    "        n_out = 1\n",
    "        \n",
    "        self.hidden = nn.Sequential(nn.Linear(n_features,n_hidden1),nn.LeakyReLU(0.2),nn.Dropout(0.3))\n",
    "        self.out = nn.Sequential(nn.Linear(n_hidden1,n_out),nn.Sigmoid())\n",
    "        \n",
    "    def forward(self,x):\n",
    "        x = self.hidden(x)\n",
    "        x = self.out(x)\n",
    "        return x"
   ]
  },
  {
   "cell_type": "code",
   "execution_count": 7,
   "metadata": {},
   "outputs": [],
   "source": [
    "class Generator(torch.nn.Module):\n",
    "    '''\n",
    "    Single hidden layer generator network\n",
    "    '''\n",
    "    def __init__(self):\n",
    "        super(Generator,self).__init__()\n",
    "        n_features = 2\n",
    "        n_hidden1 = 10\n",
    "        n_hidden2 = 10\n",
    "        n_out = 2\n",
    "        \n",
    "        self.hidden1 = nn.Sequential(nn.Linear(n_features,n_hidden1),nn.LeakyReLU(0.2))\n",
    "        self.hidden2 = nn.Sequential(nn.Linear(n_hidden1,n_hidden2),nn.LeakyReLU(0.2))\n",
    "        self.out = nn.Sequential(nn.Linear(n_hidden2,n_out),nn.Sigmoid())\n",
    "        \n",
    "    def forward(self,x):\n",
    "        x = self.hidden1(x)\n",
    "        x = self.hidden2(x)\n",
    "        x = self.out(x)\n",
    "        return x"
   ]
  },
  {
   "cell_type": "code",
   "execution_count": 8,
   "metadata": {},
   "outputs": [],
   "source": [
    "disc = Discriminator()\n",
    "gen = Generator()\n",
    "\n",
    "if torch.cuda.is_available():\n",
    "    disc.cuda()\n",
    "    gen.cuda()"
   ]
  },
  {
   "cell_type": "markdown",
   "metadata": {},
   "source": [
    "# Optimizer"
   ]
  },
  {
   "cell_type": "code",
   "execution_count": 9,
   "metadata": {},
   "outputs": [],
   "source": [
    "d_opt = optim.Adam(disc.parameters(), lr = 0.0002)\n",
    "g_opt = optim.Adam(gen.parameters(), lr = 0.0002)\n",
    "\n",
    "loss = nn.BCELoss()"
   ]
  },
  {
   "cell_type": "markdown",
   "metadata": {},
   "source": [
    "# CREATING LABELS FOR TRAINING"
   ]
  },
  {
   "cell_type": "code",
   "execution_count": 10,
   "metadata": {},
   "outputs": [],
   "source": [
    "def real_data_target(size):\n",
    "    o = torch.ones(size,1,dtype = torch.float32,requires_grad=False)\n",
    "    if torch.cuda.is_available():\n",
    "        return o.cuda()\n",
    "    return o\n",
    "\n",
    "def fake_data_target(size):\n",
    "    z = torch.zeros(size,1,dtype = torch.float32, requires_grad=False)\n",
    "    if torch.cuda.is_available():\n",
    "        return z.cuda()\n",
    "    return z"
   ]
  },
  {
   "cell_type": "code",
   "execution_count": 11,
   "metadata": {},
   "outputs": [],
   "source": [
    "def noise(size):\n",
    "    n =  torch.randn(size,2,dtype = torch.float32,requires_grad=False)\n",
    "    if torch.cuda.is_available(): return n.cuda()\n",
    "    return n"
   ]
  },
  {
   "cell_type": "markdown",
   "metadata": {},
   "source": [
    "# TRAINING"
   ]
  },
  {
   "cell_type": "code",
   "execution_count": 12,
   "metadata": {},
   "outputs": [],
   "source": [
    "def train_d(optimizer, real_data, fake_data):\n",
    "    #set optimizer gradients to zero to store fresh gradients\n",
    "    optimizer.zero_grad()\n",
    "    \n",
    "    prediction_real = disc(real_data.float())\n",
    "    error_real = loss(prediction_real, real_data_target(real_data.size(0)))\n",
    "    \n",
    "    prediction_fake = disc(fake_data)    \n",
    "    error_fake = loss(prediction_fake, fake_data_target(fake_data.size(0)))\n",
    "    \n",
    "    total_error = (error_real + error_fake)/2\n",
    "    total_error.backward()\n",
    "    optimizer.step() #update weights\n",
    "    \n",
    "    return (error_real + error_fake)/2, prediction_real, prediction_fake    \n",
    "\n",
    "def train_g(optimizer, fake_data):\n",
    "    optimizer.zero_grad()\n",
    "    \n",
    "    prediction = disc(fake_data.float())\n",
    "    error = loss(prediction, real_data_target(prediction.size(0)))\n",
    "    error.backward()\n",
    "    optimizer.step()\n",
    "    return error"
   ]
  },
  {
   "cell_type": "code",
   "execution_count": 40,
   "metadata": {},
   "outputs": [],
   "source": [
    "#number of steps to train discriminator\n",
    "EPOCHS = 1000\n",
    "BATCHES = DATASET/BATCH_SIZE"
   ]
  },
  {
   "cell_type": "code",
   "execution_count": 14,
   "metadata": {},
   "outputs": [],
   "source": [
    "d_errors = []\n",
    "g_errors = []"
   ]
  },
  {
   "cell_type": "code",
   "execution_count": 41,
   "metadata": {},
   "outputs": [
    {
     "name": "stdout",
     "output_type": "stream",
     "text": [
      "Epoch no : 0 Discriminator error: 0.6955754160881042   Generator error: 0.6913890838623047\n",
      "Epoch no : 20 Discriminator error: 0.6931645274162292   Generator error: 0.6939338445663452\n",
      "Epoch no : 40 Discriminator error: 0.690065860748291   Generator error: 0.6965023875236511\n",
      "Epoch no : 60 Discriminator error: 0.6903573870658875   Generator error: 0.6966944932937622\n",
      "Epoch no : 80 Discriminator error: 0.6937629580497742   Generator error: 0.6940840482711792\n",
      "Epoch no : 100 Discriminator error: 0.6964600086212158   Generator error: 0.6907021403312683\n",
      "Epoch no : 120 Discriminator error: 0.6949863433837891   Generator error: 0.6920170187950134\n",
      "Epoch no : 140 Discriminator error: 0.6919068098068237   Generator error: 0.6949417591094971\n",
      "Epoch no : 160 Discriminator error: 0.6897691488265991   Generator error: 0.6969585418701172\n",
      "Epoch no : 180 Discriminator error: 0.6916942000389099   Generator error: 0.6948757171630859\n",
      "Epoch no : 200 Discriminator error: 0.6926672458648682   Generator error: 0.6938784122467041\n",
      "Epoch no : 220 Discriminator error: 0.6943596601486206   Generator error: 0.6922488212585449\n",
      "Epoch no : 240 Discriminator error: 0.6936416029930115   Generator error: 0.6932224035263062\n",
      "Epoch no : 260 Discriminator error: 0.6922533512115479   Generator error: 0.694035530090332\n",
      "Epoch no : 280 Discriminator error: 0.6922842264175415   Generator error: 0.6940934062004089\n",
      "Epoch no : 300 Discriminator error: 0.6932559013366699   Generator error: 0.6935639381408691\n",
      "Epoch no : 320 Discriminator error: 0.6927461624145508   Generator error: 0.693619430065155\n",
      "Epoch no : 340 Discriminator error: 0.6933708190917969   Generator error: 0.6933202743530273\n",
      "Epoch no : 360 Discriminator error: 0.6926793456077576   Generator error: 0.6944441795349121\n",
      "Epoch no : 380 Discriminator error: 0.6931442022323608   Generator error: 0.6953209638595581\n",
      "Epoch no : 400 Discriminator error: 0.6930431127548218   Generator error: 0.6928806304931641\n",
      "Epoch no : 420 Discriminator error: 0.692679762840271   Generator error: 0.6938049793243408\n",
      "Epoch no : 440 Discriminator error: 0.6931247115135193   Generator error: 0.6943655014038086\n",
      "Epoch no : 460 Discriminator error: 0.6926512122154236   Generator error: 0.6943621039390564\n",
      "Epoch no : 480 Discriminator error: 0.6929976344108582   Generator error: 0.6941279172897339\n",
      "Epoch no : 500 Discriminator error: 0.6924375295639038   Generator error: 0.694223165512085\n",
      "Epoch no : 520 Discriminator error: 0.6929377317428589   Generator error: 0.6927019953727722\n",
      "Epoch no : 540 Discriminator error: 0.6929445266723633   Generator error: 0.6928985118865967\n",
      "Epoch no : 560 Discriminator error: 0.692894697189331   Generator error: 0.6930123567581177\n",
      "Epoch no : 580 Discriminator error: 0.6933812499046326   Generator error: 0.6925589442253113\n",
      "Epoch no : 600 Discriminator error: 0.6926569938659668   Generator error: 0.6937369704246521\n",
      "Epoch no : 620 Discriminator error: 0.6931148767471313   Generator error: 0.6938560009002686\n",
      "Epoch no : 640 Discriminator error: 0.692858099937439   Generator error: 0.6934598684310913\n",
      "Epoch no : 660 Discriminator error: 0.6926332712173462   Generator error: 0.6942705512046814\n",
      "Epoch no : 680 Discriminator error: 0.6929428577423096   Generator error: 0.6936495304107666\n",
      "Epoch no : 700 Discriminator error: 0.6927095651626587   Generator error: 0.6941733360290527\n",
      "Epoch no : 720 Discriminator error: 0.6930328607559204   Generator error: 0.6926180124282837\n",
      "Epoch no : 740 Discriminator error: 0.6930258274078369   Generator error: 0.6931637525558472\n",
      "Epoch no : 760 Discriminator error: 0.6931731104850769   Generator error: 0.6922959685325623\n",
      "Epoch no : 780 Discriminator error: 0.6928753852844238   Generator error: 0.6929415464401245\n",
      "Epoch no : 800 Discriminator error: 0.6924657225608826   Generator error: 0.694941520690918\n",
      "Epoch no : 820 Discriminator error: 0.6926493048667908   Generator error: 0.693594217300415\n",
      "Epoch no : 840 Discriminator error: 0.6930623054504395   Generator error: 0.6939073801040649\n",
      "Epoch no : 860 Discriminator error: 0.6932185888290405   Generator error: 0.6934758424758911\n",
      "Epoch no : 880 Discriminator error: 0.6929885745048523   Generator error: 0.6942138075828552\n",
      "Epoch no : 900 Discriminator error: 0.6928412318229675   Generator error: 0.6926762461662292\n",
      "Epoch no : 920 Discriminator error: 0.6930264234542847   Generator error: 0.6937436461448669\n",
      "Epoch no : 940 Discriminator error: 0.692941427230835   Generator error: 0.6943032145500183\n",
      "Epoch no : 960 Discriminator error: 0.693311870098114   Generator error: 0.6935696601867676\n",
      "Epoch no : 980 Discriminator error: 0.6924149990081787   Generator error: 0.6937278509140015\n"
     ]
    }
   ],
   "source": [
    "for epoch in range(EPOCHS):\n",
    "    g_err_avg = 0\n",
    "    d_err_avg = 0\n",
    "    for n_batch,(real_batch,_) in enumerate(training_gen):\n",
    "        #generate noise data\n",
    "        noise_data = noise(real_batch.size(0)).float()\n",
    "        fake_data = gen(noise_data).float()\n",
    "        \n",
    "        #Train discriminator\n",
    "        real_data = real_batch\n",
    "        if torch.cuda.is_available(): \n",
    "            real_data = real_data.cuda()\n",
    "        \n",
    "        d_error, d_predr, d_predf = train_d(d_opt,real_data,fake_data.detach())\n",
    "        d_err_avg+=d_error\n",
    "        \n",
    "        #Train generator\n",
    "        g_error = train_g(g_opt,fake_data)\n",
    "        g_err_avg+=g_error\n",
    "        \n",
    "    d_errors.append(d_err_avg/BATCHES)\n",
    "    g_errors.append(g_err_avg/BATCHES)\n",
    "    if epoch%20==0:\n",
    "        print(\"Epoch no : {} Discriminator error: {}   Generator error: {}\".format(epoch,d_err_avg/BATCHES,g_err_avg/BATCHES))"
   ]
  },
  {
   "cell_type": "markdown",
   "metadata": {},
   "source": [
    "# PLOTTING"
   ]
  },
  {
   "cell_type": "code",
   "execution_count": 42,
   "metadata": {},
   "outputs": [
    {
     "data": {
      "image/png": "[encoded data removed]",
      "text/plain": [
       "<Figure size 1440x432 with 1 Axes>"
      ]
     },
     "metadata": {},
     "output_type": "display_data"
    }
   ],
   "source": [
    "#graph comparison\n",
    "fig,ax = plt.subplots(figsize = (20,6))\n",
    "ax.plot(d_errors, label = \"Discriminator\")\n",
    "ax.plot(g_errors, label = \"Generator\")\n",
    "ax.set_xlabel('Epochs')\n",
    "ax.set_ylabel('Logloss error')\n",
    "ax.set_title('Trimodal data with mean (1,1), (6,6) and (11,11) and stddev (0.5,0.5), (0.6,0.6),(1,1)')\n",
    "ax.legend()\n",
    "plt.show()"
   ]
  },
  {
   "cell_type": "code",
   "execution_count": 43,
   "metadata": {},
   "outputs": [],
   "source": [
    "def comparedata(pp):\n",
    "    pp = [list(np.array(x)) for x in pp]\n",
    "    pp = torch.tensor(pp)\n",
    "    pp = np.array(pp.detach().cpu())\n",
    "    plt.scatter(pp[:,0],pp[:,1])\n",
    "    \n",
    "    #gen data\n",
    "    b = np.array(gen(noise(1000)).detach().cpu())\n",
    "    \n",
    "    #compare\n",
    "    plt.scatter(b[:,0],b[:,1])\n",
    "    plt.title('Trimodal data with mean (1,1), (6,6) and (11,11) and stddev (0.5,0.5), (0.6,0.6),(1,1)')\n",
    "    plt.show()"
   ]
  },
  {
   "cell_type": "code",
   "execution_count": 44,
   "metadata": {},
   "outputs": [
    {
     "data": {
      "image/png": "[encoded data removed]",
      "text/plain": [
       "<Figure size 432x288 with 1 Axes>"
      ]
     },
     "metadata": {},
     "output_type": "display_data"
    }
   ],
   "source": [
    "pp = []\n",
    "for i in range(DATASET):\n",
    "    pp.append(torch.load('data/'+ str(i+1) + '.pt'))\n",
    "comparedata(pp)"
   ]
  },
  {
   "cell_type": "code",
   "execution_count": 113,
   "metadata": {},
   "outputs": [],
   "source": [
    "torch.save(disc.state_dict(),'models/model4/disc.pt')\n",
    "torch.save(gen.state_dict(),'models/model4/gen.pt')"
   ]
  },
  {
   "cell_type": "code",
   "execution_count": null,
   "metadata": {},
   "outputs": [],
   "source": []
  }
 ],
 "metadata": {
  "kernelspec": {
   "display_name": "Python 3",
   "language": "python",
   "name": "python3"
  },
  "language_info": {
   "codemirror_mode": {
    "name": "ipython",
    "version": 3
   },
   "file_extension": ".py",
   "mimetype": "text/x-python",
   "name": "python",
   "nbconvert_exporter": "python",
   "pygments_lexer": "ipython3",
   "version": "3.6.5"
  }
 },
 "nbformat": 4,
 "nbformat_minor": 2
}
