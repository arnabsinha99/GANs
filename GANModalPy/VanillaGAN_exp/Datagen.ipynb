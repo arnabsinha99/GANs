{
 "cells": [
  {
   "cell_type": "code",
   "execution_count": 15,
   "metadata": {},
   "outputs": [],
   "source": [
    "import numpy as np\n",
    "import matplotlib.pyplot as plt\n",
    "import torch"
   ]
  },
  {
   "cell_type": "code",
   "execution_count": 37,
   "metadata": {},
   "outputs": [],
   "source": [
    "class Datagen:\n",
    "    def __init__(self,dim,mod,means,stddev,num_points):\n",
    "        self.dim = dim\n",
    "        self.mod = mod\n",
    "        self.means = means\n",
    "        self.stddev = stddev\n",
    "        self.num_points = num_points\n",
    "        self.ids = np.arange(1,self.mod*self.num_points + 1,1)\n",
    "    \n",
    "    def reshape_means(self):\n",
    "        self.means = np.array(self.means).reshape(self.mod,self.dim)\n",
    "    \n",
    "    def reshape_stddev(self):\n",
    "        self.stddev = np.array(self.stddev).reshape(self.mod,self.dim)\n",
    "\n",
    "    def generate_gaussian(self):        \n",
    "        pointsarr = []\n",
    "        for row in range(self.mod):\n",
    "            pointsarr.append(np.random.multivariate_normal(self.means[row],np.diag(self.stddev[row]),self.num_points))\n",
    "        pointsarr = np.concatenate(pointsarr)\n",
    "        return pointsarr  \n",
    "    \n",
    "    def totensor(self,numpyobj):\n",
    "        return torch.tensor(numpyobj)\n",
    "    \n",
    "    def standardize(self,arr):        \n",
    "        arr[:,0] = (arr[:,0]-torch.min(arr[:,0]))/(torch.max(arr[:,0]) - torch.min(arr[:,0]))\n",
    "        arr[:,1] = (arr[:,1]-torch.min(arr[:,1]))/(torch.max(arr[:,1]) - torch.min(arr[:,1]))\n",
    "        return arr"
   ]
  },
  {
   "cell_type": "code",
   "execution_count": 54,
   "metadata": {},
   "outputs": [],
   "source": [
    "dim = 2\n",
    "mod = 3\n",
    "means = [2,2,6,6,11,11]\n",
    "stddev = [0.25,0.25,0.36,0.36,1,1]\n",
    "points = 500"
   ]
  },
  {
   "cell_type": "code",
   "execution_count": 55,
   "metadata": {},
   "outputs": [],
   "source": [
    "d_obj = Datagen(dim,mod,means,stddev,points)\n",
    "d_obj.reshape_means()\n",
    "d_obj.reshape_stddev()\n",
    "pointsarr = d_obj.totensor(d_obj.generate_gaussian())"
   ]
  },
  {
   "cell_type": "code",
   "execution_count": 56,
   "metadata": {},
   "outputs": [],
   "source": [
    "pointsarr = d_obj.standardize(pointsarr)"
   ]
  },
  {
   "cell_type": "code",
   "execution_count": 57,
   "metadata": {},
   "outputs": [
    {
     "data": {
      "image/png": "[encoded data removed]",
      "text/plain": [
       "<Figure size 432x288 with 1 Axes>"
      ]
     },
     "metadata": {},
     "output_type": "display_data"
    }
   ],
   "source": [
    "p = plt.scatter(pointsarr[:,0],pointsarr[:,1])"
   ]
  },
  {
   "cell_type": "code",
   "execution_count": 58,
   "metadata": {},
   "outputs": [],
   "source": [
    "for ind,data in enumerate(pointsarr):\n",
    "    torch.save(pointsarr[ind], 'data/' + str(ind+1) + '.pt')"
   ]
  },
  {
   "cell_type": "code",
   "execution_count": 67,
   "metadata": {},
   "outputs": [],
   "source": [
    "# means = np.array(means).reshape((mod,dim))\n",
    "# stddev = np.array(stddev).reshape((mod,dim))"
   ]
  },
  {
   "cell_type": "code",
   "execution_count": 69,
   "metadata": {},
   "outputs": [],
   "source": [
    "# l = []\n",
    "# for row in range(mod):\n",
    "#     l.append(np.random.multivariate_normal(means[row],np.diag(stddev[row]),points))"
   ]
  },
  {
   "cell_type": "code",
   "execution_count": 124,
   "metadata": {},
   "outputs": [],
   "source": [
    "# (pointsarr[:,0]-torch.min(pointsarr[:,0]))/(torch.max(pointsarr[:,0]) - torch.min(pointsarr[:,0]))"
   ]
  },
  {
   "cell_type": "code",
   "execution_count": 8,
   "metadata": {},
   "outputs": [],
   "source": [
    "# pointsarr = torch.sigmoid(pointsarr)"
   ]
  },
  {
   "cell_type": "code",
   "execution_count": 130,
   "metadata": {},
   "outputs": [],
   "source": [
    "# plt.savefig('actual_data.png')"
   ]
  },
  {
   "cell_type": "code",
   "execution_count": 129,
   "metadata": {},
   "outputs": [],
   "source": [
    "# plt.hist(pointsarr[:,0],10)\n",
    "# plt.show()"
   ]
  },
  {
   "cell_type": "code",
   "execution_count": 70,
   "metadata": {},
   "outputs": [],
   "source": [
    "# l_tens = torch.tensor(l_cat)\n",
    "# l_tens2 = torch.from_numpy(l_cat)"
   ]
  }
 ],
 "metadata": {
  "kernelspec": {
   "display_name": "Python 3",
   "language": "python",
   "name": "python3"
  },
  "language_info": {
   "codemirror_mode": {
    "name": "ipython",
    "version": 3
   },
   "file_extension": ".py",
   "mimetype": "text/x-python",
   "name": "python",
   "nbconvert_exporter": "python",
   "pygments_lexer": "ipython3",
   "version": "3.6.5"
  }
 },
 "nbformat": 4,
 "nbformat_minor": 2
}
