{
 "cells": [
  {
   "cell_type": "code",
   "execution_count": 176,
   "metadata": {},
   "outputs": [],
   "source": [
    "import numpy as np\n",
    "import matplotlib.pyplot as plt\n",
    "%matplotlib inline\n",
    "import torch\n",
    "from torch import nn, optim\n",
    "from torch.autograd.variable import Variable\n",
    "import logging as log\n",
    "from torchvision import transforms, datasets"
   ]
  },
  {
   "cell_type": "markdown",
   "metadata": {},
   "source": [
    "# DATASET"
   ]
  },
  {
   "cell_type": "code",
   "execution_count": 395,
   "metadata": {},
   "outputs": [],
   "source": [
    "class GaussianDataset(torch.utils.data.Dataset):\n",
    "    def __init__(self,ids,labels):\n",
    "        self.ids = ids\n",
    "        self.labels = labels\n",
    "    \n",
    "    def __len__(self):\n",
    "        return len(self.ids)\n",
    "    \n",
    "    def __getitem__(self,index):\n",
    "        Id = self.ids[index]\n",
    "        X = torch.load('data/' + str(Id)+'.pt')\n",
    "        y = self.labels[Id]\n",
    "        \n",
    "        return X,y"
   ]
  },
  {
   "cell_type": "code",
   "execution_count": 396,
   "metadata": {},
   "outputs": [],
   "source": [
    "ids = np.arange(1,201,1)\n",
    "labels = np.full(200,1) #simply labels\n",
    "labels = dict([(x,y) for x,y in zip(ids,labels)]) # id to label mapping\n",
    "training = GaussianDataset(ids,labels)"
   ]
  },
  {
   "cell_type": "code",
   "execution_count": 397,
   "metadata": {},
   "outputs": [],
   "source": [
    "training_gen = torch.utils.data.DataLoader(training, batch_size=10, shuffle=True, num_workers=0)\n",
    "num_batches = len(training_gen)"
   ]
  },
  {
   "cell_type": "markdown",
   "metadata": {},
   "source": [
    "# NETWORKS"
   ]
  },
  {
   "cell_type": "code",
   "execution_count": 398,
   "metadata": {},
   "outputs": [],
   "source": [
    "class Discriminator(torch.nn.Module):\n",
    "    '''\n",
    "    Single hidden layer discriminator network\n",
    "    '''\n",
    "    def __init__(self):\n",
    "        super(Discriminator,self).__init__()\n",
    "        n_features = 2\n",
    "        n_out = 1\n",
    "        \n",
    "        self.hidden = nn.Sequential(nn.Linear(n_features,10),nn.Sigmoid())\n",
    "        self.out = nn.Sequential(nn.Linear(10,1),nn.Sigmoid())\n",
    "        \n",
    "    def forward(self,x):\n",
    "        x = self.hidden(x)\n",
    "        x = self.out(x)\n",
    "        return x"
   ]
  },
  {
   "cell_type": "code",
   "execution_count": 399,
   "metadata": {},
   "outputs": [],
   "source": [
    "class Generator(torch.nn.Module):\n",
    "    '''\n",
    "    Single hidden layer generator network\n",
    "    '''\n",
    "    def __init__(self):\n",
    "        super(Generator,self).__init__()\n",
    "        n_features = 2\n",
    "        n_out = 2\n",
    "        \n",
    "        self.hidden = nn.Sequential(nn.Linear(n_features,10),nn.Sigmoid())\n",
    "        self.out = nn.Sequential(nn.Linear(10,2),nn.Sigmoid())\n",
    "        \n",
    "    def forward(self,x):\n",
    "        x = self.hidden(x)\n",
    "        x = self.out(x)\n",
    "        return x"
   ]
  },
  {
   "cell_type": "code",
   "execution_count": 442,
   "metadata": {},
   "outputs": [],
   "source": [
    "disc = Discriminator()\n",
    "gen = Generator()\n",
    "\n",
    "if torch.cuda.is_available():\n",
    "    disc.cuda()\n",
    "    gen.cuda()"
   ]
  },
  {
   "cell_type": "markdown",
   "metadata": {},
   "source": [
    "# Optimizer"
   ]
  },
  {
   "cell_type": "code",
   "execution_count": 443,
   "metadata": {},
   "outputs": [],
   "source": [
    "d_opt = optim.Adam(disc.parameters(), lr = 0.0002)\n",
    "g_opt = optim.Adam(gen.parameters(), lr = 0.0002)\n",
    "\n",
    "loss = nn.BCELoss()"
   ]
  },
  {
   "cell_type": "markdown",
   "metadata": {},
   "source": [
    "# CREATING LABELS FOR TRAINING"
   ]
  },
  {
   "cell_type": "code",
   "execution_count": 444,
   "metadata": {},
   "outputs": [],
   "source": [
    "def real_data_target(size):\n",
    "    o = torch.ones(size,1,dtype = torch.float32,requires_grad=False)\n",
    "    if torch.cuda.is_available():\n",
    "        return o.cuda()\n",
    "    return o\n",
    "\n",
    "def fake_data_target(size):\n",
    "    z = torch.zeros(size,1,dtype = torch.float32, requires_grad=False)\n",
    "    if torch.cuda.is_available():\n",
    "        return z.cuda()\n",
    "    return z"
   ]
  },
  {
   "cell_type": "code",
   "execution_count": 445,
   "metadata": {},
   "outputs": [],
   "source": [
    "def noise(size):\n",
    "    n =  torch.randn(size,2,dtype = torch.float32,requires_grad=False)\n",
    "    if torch.cuda.is_available(): return n.cuda()\n",
    "    return n"
   ]
  },
  {
   "cell_type": "markdown",
   "metadata": {},
   "source": [
    "# TRAINING"
   ]
  },
  {
   "cell_type": "code",
   "execution_count": 446,
   "metadata": {},
   "outputs": [],
   "source": [
    "def train_d(optimizer, real_data, fake_data):\n",
    "    #set optimizer gradients to zero to store fresh gradients\n",
    "    optimizer.zero_grad()\n",
    "    \n",
    "    prediction_real = disc(real_data.float())\n",
    "    error_real = loss(prediction_real, real_data_target(real_data.size(0)))\n",
    "    error_real.backward()\n",
    "    \n",
    "    prediction_fake = disc(fake_data.float())    \n",
    "    error_fake = loss(prediction_fake, fake_data_target(fake_data.size(0)))\n",
    "    error_fake.backward()\n",
    "    \n",
    "    optimizer.step() #update weights\n",
    "    \n",
    "    return error_real + error_fake, prediction_real, prediction_fake    \n",
    "\n",
    "def train_g(optimizer, fake_data):\n",
    "    optimizer.zero_grad()\n",
    "    \n",
    "    prediction = disc(fake_data.float())\n",
    "    error = loss(prediction, real_data_target(prediction.size(0)))\n",
    "    error.backward()\n",
    "    optimizer.step()\n",
    "    return error"
   ]
  },
  {
   "cell_type": "code",
   "execution_count": 447,
   "metadata": {},
   "outputs": [],
   "source": [
    "#number of steps to train discriminator\n",
    "d_steps = 1\n",
    "EPOCHS = 1000"
   ]
  },
  {
   "cell_type": "code",
   "execution_count": 448,
   "metadata": {},
   "outputs": [],
   "source": [
    "d_errors = []\n",
    "g_errors = []"
   ]
  },
  {
   "cell_type": "code",
   "execution_count": 449,
   "metadata": {},
   "outputs": [
    {
     "name": "stdout",
     "output_type": "stream",
     "text": [
      "Epoch no : 0 Discriminator error: 1.420088768005371   Generator error: 0.52390056848526\n",
      "Epoch no : 10 Discriminator error: 1.3887864351272583   Generator error: 0.6279277205467224\n",
      "Epoch no : 20 Discriminator error: 1.3833948373794556   Generator error: 0.6804195046424866\n",
      "Epoch no : 30 Discriminator error: 1.3823388814926147   Generator error: 0.6949737668037415\n",
      "Epoch no : 40 Discriminator error: 1.381408452987671   Generator error: 0.697669267654419\n",
      "Epoch no : 50 Discriminator error: 1.3803805112838745   Generator error: 0.6984844207763672\n",
      "Epoch no : 60 Discriminator error: 1.3791799545288086   Generator error: 0.6993758082389832\n",
      "Epoch no : 70 Discriminator error: 1.3777648210525513   Generator error: 0.7002164125442505\n",
      "Epoch no : 80 Discriminator error: 1.376104474067688   Generator error: 0.7012016177177429\n",
      "Epoch no : 90 Discriminator error: 1.374148964881897   Generator error: 0.7022430896759033\n",
      "Epoch no : 100 Discriminator error: 1.3719385862350464   Generator error: 0.7037057876586914\n",
      "Epoch no : 110 Discriminator error: 1.3690041303634644   Generator error: 0.7050558924674988\n",
      "Epoch no : 120 Discriminator error: 1.3665684461593628   Generator error: 0.7069153189659119\n",
      "Epoch no : 130 Discriminator error: 1.3628747463226318   Generator error: 0.7081534266471863\n",
      "Epoch no : 140 Discriminator error: 1.3592976331710815   Generator error: 0.710180401802063\n",
      "Epoch no : 150 Discriminator error: 1.3546713590621948   Generator error: 0.7132220268249512\n",
      "Epoch no : 160 Discriminator error: 1.3502410650253296   Generator error: 0.715307354927063\n",
      "Epoch no : 170 Discriminator error: 1.3454197645187378   Generator error: 0.7177926301956177\n",
      "Epoch no : 180 Discriminator error: 1.3394150733947754   Generator error: 0.72100430727005\n",
      "Epoch no : 190 Discriminator error: 1.3346024751663208   Generator error: 0.7240148782730103\n",
      "Epoch no : 200 Discriminator error: 1.3293732404708862   Generator error: 0.727795422077179\n",
      "Epoch no : 210 Discriminator error: 1.3227072954177856   Generator error: 0.7296964526176453\n",
      "Epoch no : 220 Discriminator error: 1.3173109292984009   Generator error: 0.7341643571853638\n",
      "Epoch no : 230 Discriminator error: 1.3099311590194702   Generator error: 0.7374746203422546\n",
      "Epoch no : 240 Discriminator error: 1.3043783903121948   Generator error: 0.7413468360900879\n",
      "Epoch no : 250 Discriminator error: 1.2974185943603516   Generator error: 0.7491089701652527\n",
      "Epoch no : 260 Discriminator error: 1.290779709815979   Generator error: 0.7527560591697693\n",
      "Epoch no : 270 Discriminator error: 1.284467101097107   Generator error: 0.7559287548065186\n",
      "Epoch no : 280 Discriminator error: 1.278551697731018   Generator error: 0.7592711448669434\n",
      "Epoch no : 290 Discriminator error: 1.270973563194275   Generator error: 0.7624168395996094\n",
      "Epoch no : 300 Discriminator error: 1.2643152475357056   Generator error: 0.7709969282150269\n",
      "Epoch no : 310 Discriminator error: 1.257980465888977   Generator error: 0.7751210331916809\n",
      "Epoch no : 320 Discriminator error: 1.2493259906768799   Generator error: 0.7776514887809753\n",
      "Epoch no : 330 Discriminator error: 1.2440565824508667   Generator error: 0.7826769948005676\n",
      "Epoch no : 340 Discriminator error: 1.2363266944885254   Generator error: 0.7896233797073364\n",
      "Epoch no : 350 Discriminator error: 1.2302117347717285   Generator error: 0.7914908528327942\n",
      "Epoch no : 360 Discriminator error: 1.225058913230896   Generator error: 0.7989270091056824\n",
      "Epoch no : 370 Discriminator error: 1.216943383216858   Generator error: 0.8041672110557556\n",
      "Epoch no : 380 Discriminator error: 1.2114671468734741   Generator error: 0.8053284883499146\n",
      "Epoch no : 390 Discriminator error: 1.2041157484054565   Generator error: 0.8104332089424133\n",
      "Epoch no : 400 Discriminator error: 1.2000272274017334   Generator error: 0.8158512115478516\n",
      "Epoch no : 410 Discriminator error: 1.1940144300460815   Generator error: 0.8229508399963379\n",
      "Epoch no : 420 Discriminator error: 1.1884738206863403   Generator error: 0.8251776695251465\n",
      "Epoch no : 430 Discriminator error: 1.1795762777328491   Generator error: 0.8271358609199524\n",
      "Epoch no : 440 Discriminator error: 1.1721322536468506   Generator error: 0.8341525197029114\n",
      "Epoch no : 450 Discriminator error: 1.1698834896087646   Generator error: 0.8389508128166199\n",
      "Epoch no : 460 Discriminator error: 1.1649909019470215   Generator error: 0.8443175554275513\n",
      "Epoch no : 470 Discriminator error: 1.156693935394287   Generator error: 0.850527286529541\n",
      "Epoch no : 480 Discriminator error: 1.1491161584854126   Generator error: 0.8543055653572083\n",
      "Epoch no : 490 Discriminator error: 1.1447542905807495   Generator error: 0.8607460260391235\n",
      "Epoch no : 500 Discriminator error: 1.1454232931137085   Generator error: 0.8648433089256287\n",
      "Epoch no : 510 Discriminator error: 1.1362004280090332   Generator error: 0.8700838088989258\n",
      "Epoch no : 520 Discriminator error: 1.1271920204162598   Generator error: 0.8713058829307556\n",
      "Epoch no : 530 Discriminator error: 1.127110242843628   Generator error: 0.8737736940383911\n",
      "Epoch no : 540 Discriminator error: 1.1178616285324097   Generator error: 0.8739282488822937\n",
      "Epoch no : 550 Discriminator error: 1.1190675497055054   Generator error: 0.884148895740509\n",
      "Epoch no : 560 Discriminator error: 1.1086102724075317   Generator error: 0.8859678506851196\n",
      "Epoch no : 570 Discriminator error: 1.1024603843688965   Generator error: 0.8949534296989441\n",
      "Epoch no : 580 Discriminator error: 1.1020351648330688   Generator error: 0.8949405550956726\n",
      "Epoch no : 590 Discriminator error: 1.1011418104171753   Generator error: 0.8998302817344666\n",
      "Epoch no : 600 Discriminator error: 1.0938665866851807   Generator error: 0.9034271240234375\n",
      "Epoch no : 610 Discriminator error: 1.0879515409469604   Generator error: 0.9108604788780212\n",
      "Epoch no : 620 Discriminator error: 1.0845736265182495   Generator error: 0.91359943151474\n",
      "Epoch no : 630 Discriminator error: 1.0792274475097656   Generator error: 0.9178851246833801\n",
      "Epoch no : 640 Discriminator error: 1.077341079711914   Generator error: 0.9204608201980591\n",
      "Epoch no : 650 Discriminator error: 1.0734671354293823   Generator error: 0.9238271117210388\n",
      "Epoch no : 660 Discriminator error: 1.0696897506713867   Generator error: 0.9363188147544861\n",
      "Epoch no : 670 Discriminator error: 1.0626991987228394   Generator error: 0.9400857090950012\n",
      "Epoch no : 680 Discriminator error: 1.0630242824554443   Generator error: 0.9440767168998718\n",
      "Epoch no : 690 Discriminator error: 1.0547473430633545   Generator error: 0.944992184638977\n",
      "Epoch no : 700 Discriminator error: 1.0556604862213135   Generator error: 0.9460284113883972\n",
      "Epoch no : 710 Discriminator error: 1.050195574760437   Generator error: 0.9536528587341309\n",
      "Epoch no : 720 Discriminator error: 1.0457499027252197   Generator error: 0.9500297904014587\n",
      "Epoch no : 730 Discriminator error: 1.0521998405456543   Generator error: 0.9617919921875\n",
      "Epoch no : 740 Discriminator error: 1.0372422933578491   Generator error: 0.9610201716423035\n",
      "Epoch no : 750 Discriminator error: 1.0385544300079346   Generator error: 0.9611820578575134\n",
      "Epoch no : 760 Discriminator error: 1.0354465246200562   Generator error: 0.9697702527046204\n",
      "Epoch no : 770 Discriminator error: 1.031864047050476   Generator error: 0.9711648225784302\n",
      "Epoch no : 780 Discriminator error: 1.031072735786438   Generator error: 0.9831916689872742\n",
      "Epoch no : 790 Discriminator error: 1.0282338857650757   Generator error: 0.9775762557983398\n",
      "Epoch no : 800 Discriminator error: 1.019253134727478   Generator error: 0.9748494029045105\n",
      "Epoch no : 810 Discriminator error: 1.022668719291687   Generator error: 0.9875214695930481\n",
      "Epoch no : 820 Discriminator error: 1.0170572996139526   Generator error: 0.9894893765449524\n",
      "Epoch no : 830 Discriminator error: 1.0091992616653442   Generator error: 0.9881219267845154\n",
      "Epoch no : 840 Discriminator error: 1.0187636613845825   Generator error: 0.9959682822227478\n",
      "Epoch no : 850 Discriminator error: 1.012052059173584   Generator error: 0.991818904876709\n",
      "Epoch no : 860 Discriminator error: 1.0106346607208252   Generator error: 1.000870704650879\n",
      "Epoch no : 870 Discriminator error: 1.0081201791763306   Generator error: 0.9933706521987915\n"
     ]
    },
    {
     "name": "stdout",
     "output_type": "stream",
     "text": [
      "Epoch no : 880 Discriminator error: 1.0029919147491455   Generator error: 1.0108668804168701\n",
      "Epoch no : 890 Discriminator error: 1.0032416582107544   Generator error: 1.00273597240448\n",
      "Epoch no : 900 Discriminator error: 0.9991695284843445   Generator error: 1.0137081146240234\n",
      "Epoch no : 910 Discriminator error: 0.9976534247398376   Generator error: 1.0204516649246216\n",
      "Epoch no : 920 Discriminator error: 0.9986400604248047   Generator error: 1.0177630186080933\n",
      "Epoch no : 930 Discriminator error: 0.9946531653404236   Generator error: 1.0175412893295288\n",
      "Epoch no : 940 Discriminator error: 0.9923712015151978   Generator error: 1.0172452926635742\n",
      "Epoch no : 950 Discriminator error: 0.9901546835899353   Generator error: 1.019055724143982\n",
      "Epoch no : 960 Discriminator error: 0.987255871295929   Generator error: 1.0343953371047974\n",
      "Epoch no : 970 Discriminator error: 0.9853135347366333   Generator error: 1.0292271375656128\n",
      "Epoch no : 980 Discriminator error: 0.9859699606895447   Generator error: 1.0454877614974976\n",
      "Epoch no : 990 Discriminator error: 0.9806103110313416   Generator error: 1.0496097803115845\n"
     ]
    }
   ],
   "source": [
    "for epoch in range(EPOCHS):\n",
    "    g_err_avg = 0\n",
    "    d_err_avg = 0\n",
    "    for n_batch,(real_batch,_) in enumerate(training_gen):\n",
    "        #Train disc\n",
    "        real_data = real_batch\n",
    "        if torch.cuda.is_available(): \n",
    "            real_data = real_data.cuda()\n",
    "        \n",
    "        fake_data = gen(noise(real_data.size(0)).float()).detach()\n",
    "        \n",
    "#       for times in range(d_steps):\n",
    "        d_error, d_predr, d_predf = train_d(d_opt,real_data,fake_data)\n",
    "        d_err_avg+=d_error\n",
    "#       print(d_error)\n",
    "        \n",
    "        #train gen\n",
    "        \n",
    "        fake_data = gen(noise(real_data.size(0)).float()).detach()\n",
    "#         print(fake_data.shape)\n",
    "        g_error = train_g(g_opt,fake_data)\n",
    "        g_err_avg+=g_error\n",
    "    d_errors.append(d_err_avg/20)\n",
    "    g_errors.append(g_err_avg/20)\n",
    "    if epoch%10==0:\n",
    "        print(\"Epoch no : {} Discriminator error: {}   Generator error: {}\".format(epoch,d_err_avg/20,g_err_avg/20))"
   ]
  },
  {
   "cell_type": "markdown",
   "metadata": {},
   "source": [
    "# PLOTTING"
   ]
  },
  {
   "cell_type": "code",
   "execution_count": 450,
   "metadata": {},
   "outputs": [
    {
     "data": {
      "text/plain": [
       "[<matplotlib.lines.Line2D at 0x2278e8e19b0>]"
      ]
     },
     "execution_count": 450,
     "metadata": {},
     "output_type": "execute_result"
    },
    {
     "data": {
      "image/png": "[encoded data removed]",
      "text/plain": [
       "<Figure size 1440x432 with 1 Axes>"
      ]
     },
     "metadata": {},
     "output_type": "display_data"
    }
   ],
   "source": [
    "fig,ax = plt.subplots(figsize = (20,6))\n",
    "ax.plot(d_errors)\n",
    "ax.plot(g_errors)"
   ]
  },
  {
   "cell_type": "code",
   "execution_count": 274,
   "metadata": {},
   "outputs": [
    {
     "data": {
      "text/plain": [
       "<Figure size 432x288 with 0 Axes>"
      ]
     },
     "metadata": {},
     "output_type": "display_data"
    }
   ],
   "source": [
    "plt.savefig('2800epochs_model1.png')"
   ]
  },
  {
   "cell_type": "code",
   "execution_count": 281,
   "metadata": {},
   "outputs": [],
   "source": [
    "torch.save(disc.state_dict(),'models/model1.pt')"
   ]
  },
  {
   "cell_type": "code",
   "execution_count": 284,
   "metadata": {},
   "outputs": [],
   "source": [
    "m = torch.load('models/model1.pt')"
   ]
  },
  {
   "cell_type": "code",
   "execution_count": 287,
   "metadata": {},
   "outputs": [
    {
     "data": {
      "text/plain": [
       "tensor([-0.2178,  0.4005, -0.4102,  0.3267, -0.3745,  0.4669, -1.9859, -0.1809,\n",
       "        -0.4065,  0.3878], device='cuda:0')"
      ]
     },
     "execution_count": 287,
     "metadata": {},
     "output_type": "execute_result"
    }
   ],
   "source": [
    "m['hidden.0.bias']"
   ]
  },
  {
   "cell_type": "code",
   "execution_count": 464,
   "metadata": {},
   "outputs": [],
   "source": [
    "b = np.array(gen(noise(200)).detach().cpu())"
   ]
  },
  {
   "cell_type": "code",
   "execution_count": 459,
   "metadata": {},
   "outputs": [
    {
     "data": {
      "image/png": "[encoded data removed]",
      "text/plain": [
       "<Figure size 432x288 with 1 Axes>"
      ]
     },
     "metadata": {},
     "output_type": "display_data"
    }
   ],
   "source": [
    "plt.scatter(b[:,0],b[:,1])\n",
    "plt.show()"
   ]
  },
  {
   "cell_type": "code",
   "execution_count": 417,
   "metadata": {},
   "outputs": [],
   "source": [
    "c = np.array(gen(noise(200)).detach().cpu())"
   ]
  },
  {
   "cell_type": "code",
   "execution_count": 418,
   "metadata": {},
   "outputs": [
    {
     "data": {
      "image/png": "[encoded data removed]",
      "text/plain": [
       "<Figure size 432x288 with 1 Axes>"
      ]
     },
     "metadata": {},
     "output_type": "display_data"
    }
   ],
   "source": [
    "plt.scatter(c[:,0],c[:,1])\n",
    "plt.show()"
   ]
  },
  {
   "cell_type": "code",
   "execution_count": 333,
   "metadata": {},
   "outputs": [
    {
     "data": {
      "text/plain": [
       "<Figure size 432x288 with 0 Axes>"
      ]
     },
     "metadata": {},
     "output_type": "display_data"
    }
   ],
   "source": [
    "plt.savefig('1500_epoch_generator_data.png')"
   ]
  },
  {
   "cell_type": "code",
   "execution_count": 325,
   "metadata": {},
   "outputs": [],
   "source": [
    "d = np.array(gen(noise(200)).detach().cpu())"
   ]
  },
  {
   "cell_type": "code",
   "execution_count": 326,
   "metadata": {},
   "outputs": [
    {
     "data": {
      "text/plain": [
       "<matplotlib.collections.PathCollection at 0x2278b00c080>"
      ]
     },
     "execution_count": 326,
     "metadata": {},
     "output_type": "execute_result"
    },
    {
     "data": {
      "image/png": "[encoded data removed]",
      "text/plain": [
       "<Figure size 432x288 with 1 Axes>"
      ]
     },
     "metadata": {},
     "output_type": "display_data"
    }
   ],
   "source": [
    "plt.scatter(d[:,0],d[:,1])"
   ]
  },
  {
   "cell_type": "code",
   "execution_count": 327,
   "metadata": {},
   "outputs": [
    {
     "data": {
      "text/plain": [
       "<Figure size 432x288 with 0 Axes>"
      ]
     },
     "metadata": {},
     "output_type": "display_data"
    }
   ],
   "source": [
    "plt.savefig('3000_epoch_generator_data.png')"
   ]
  },
  {
   "cell_type": "code",
   "execution_count": 465,
   "metadata": {},
   "outputs": [],
   "source": [
    "pp = []\n",
    "for i in range(200):\n",
    "    pp.append(torch.load('data/'+ str(i+1) + '.pt'))"
   ]
  },
  {
   "cell_type": "code",
   "execution_count": 466,
   "metadata": {},
   "outputs": [
    {
     "data": {
      "text/plain": [
       "<matplotlib.collections.PathCollection at 0x2278edcbe80>"
      ]
     },
     "execution_count": 466,
     "metadata": {},
     "output_type": "execute_result"
    },
    {
     "data": {
      "image/png": "[encoded data removed]",
      "text/plain": [
       "<Figure size 432x288 with 1 Axes>"
      ]
     },
     "metadata": {},
     "output_type": "display_data"
    }
   ],
   "source": [
    "pp = [list(np.array(x)) for x in pp]\n",
    "pp = torch.tensor(pp)\n",
    "pp = torch.sigmoid(pp)\n",
    "pp = np.array(pp.detach().cpu())\n",
    "plt.scatter(pp[:,0],pp[:,1])\n",
    "plt.scatter(b[:,0],b[:,1])"
   ]
  },
  {
   "cell_type": "code",
   "execution_count": 394,
   "metadata": {},
   "outputs": [],
   "source": [
    "# torch.tensor(pp)"
   ]
  },
  {
   "cell_type": "code",
   "execution_count": null,
   "metadata": {},
   "outputs": [],
   "source": []
  }
 ],
 "metadata": {
  "kernelspec": {
   "display_name": "Python 3",
   "language": "python",
   "name": "python3"
  },
  "language_info": {
   "codemirror_mode": {
    "name": "ipython",
    "version": 3
   },
   "file_extension": ".py",
   "mimetype": "text/x-python",
   "name": "python",
   "nbconvert_exporter": "python",
   "pygments_lexer": "ipython3",
   "version": "3.6.5"
  }
 },
 "nbformat": 4,
 "nbformat_minor": 2
}
