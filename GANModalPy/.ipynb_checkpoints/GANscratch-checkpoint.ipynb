{
 "cells": [
  {
   "cell_type": "code",
   "execution_count": 176,
   "metadata": {},
   "outputs": [],
   "source": [
    "import numpy as np\n",
    "import matplotlib.pyplot as plt\n",
    "%matplotlib inline\n",
    "import torch\n",
    "from torch import nn, optim\n",
    "from torch.autograd.variable import Variable\n",
    "import logging as log\n",
    "from torchvision import transforms, datasets"
   ]
  },
  {
   "cell_type": "markdown",
   "metadata": {},
   "source": [
    "# DATASET"
   ]
  },
  {
   "cell_type": "code",
   "execution_count": 227,
   "metadata": {},
   "outputs": [],
   "source": [
    "class GaussianDataset(torch.utils.data.Dataset):\n",
    "    def __init__(self,ids,labels):\n",
    "        self.ids = ids\n",
    "        self.labels = labels\n",
    "    \n",
    "    def __len__(self):\n",
    "        return len(self.ids)\n",
    "    \n",
    "    def __getitem__(self,index):\n",
    "        Id = self.ids[index]\n",
    "        X = torch.load('data/' + str(Id)+'.pt')\n",
    "        y = self.labels[Id]\n",
    "        \n",
    "        return X,y"
   ]
  },
  {
   "cell_type": "code",
   "execution_count": 228,
   "metadata": {},
   "outputs": [],
   "source": [
    "ids = np.arange(1,201,1)\n",
    "labels = np.concatenate((np.full(100,0),np.full(100,1))) # simply labels\n",
    "labels = dict([(x,y) for x,y in zip(ids,labels)]) # id to label mapping\n",
    "training = GaussianDataset(ids,labels)"
   ]
  },
  {
   "cell_type": "code",
   "execution_count": 229,
   "metadata": {},
   "outputs": [],
   "source": [
    "training_gen = torch.utils.data.DataLoader(training, batch_size=10, shuffle=True, num_workers=0)\n",
    "num_batches = len(training_gen)"
   ]
  },
  {
   "cell_type": "markdown",
   "metadata": {},
   "source": [
    "# NETWORKS"
   ]
  },
  {
   "cell_type": "code",
   "execution_count": 234,
   "metadata": {},
   "outputs": [],
   "source": [
    "class Discriminator(torch.nn.Module):\n",
    "    '''\n",
    "    Single hidden layer discriminator network\n",
    "    '''\n",
    "    def __init__(self):\n",
    "        super(Discriminator,self).__init__()\n",
    "        n_features = 2\n",
    "        n_out = 1\n",
    "        \n",
    "        self.hidden = nn.Sequential(nn.Linear(n_features,10),nn.Sigmoid())\n",
    "        self.out = nn.Sequential(nn.Linear(10,1),nn.Sigmoid())\n",
    "        \n",
    "    def forward(self,x):\n",
    "        x = self.hidden(x)\n",
    "        x = self.out(x)\n",
    "        return x"
   ]
  },
  {
   "cell_type": "code",
   "execution_count": 235,
   "metadata": {},
   "outputs": [],
   "source": [
    "class Generator(torch.nn.Module):\n",
    "    '''\n",
    "    Single hidden layer generator network\n",
    "    '''\n",
    "    def __init__(self):\n",
    "        super(Generator,self).__init__()\n",
    "        n_features = 2\n",
    "        n_out = 2\n",
    "        \n",
    "        self.hidden = nn.Sequential(nn.Linear(n_features,10),nn.Sigmoid())\n",
    "        self.out = nn.Sequential(nn.Linear(10,2),nn.Sigmoid())\n",
    "        \n",
    "    def forward(self,x):\n",
    "        x = self.hidden(x)\n",
    "        x = self.out(x)\n",
    "        return x"
   ]
  },
  {
   "cell_type": "code",
   "execution_count": 334,
   "metadata": {},
   "outputs": [],
   "source": [
    "disc = Discriminator()\n",
    "gen = Generator()\n",
    "\n",
    "if torch.cuda.is_available():\n",
    "    disc.cuda()\n",
    "    gen.cuda()"
   ]
  },
  {
   "cell_type": "markdown",
   "metadata": {},
   "source": [
    "# Optimizer"
   ]
  },
  {
   "cell_type": "code",
   "execution_count": 335,
   "metadata": {},
   "outputs": [],
   "source": [
    "d_opt = optim.Adam(disc.parameters(), lr = 0.0002)\n",
    "g_opt = optim.Adam(gen.parameters(), lr = 0.0002)\n",
    "\n",
    "loss = nn.BCELoss()"
   ]
  },
  {
   "cell_type": "code",
   "execution_count": 313,
   "metadata": {},
   "outputs": [],
   "source": [
    "#number of steps to train discriminator\n",
    "d_steps = 1\n",
    "EPOCHS = 1500"
   ]
  },
  {
   "cell_type": "markdown",
   "metadata": {},
   "source": [
    "# CREATING LABELS FOR TRAINING"
   ]
  },
  {
   "cell_type": "code",
   "execution_count": 314,
   "metadata": {},
   "outputs": [],
   "source": [
    "def real_data_target(size):\n",
    "    o = torch.ones(size,1,dtype = torch.float32,requires_grad=False)\n",
    "    if torch.cuda.is_available():\n",
    "        return o.cuda()\n",
    "    return o\n",
    "\n",
    "def fake_data_target(size):\n",
    "    z = torch.zeros(size,1,dtype = torch.float32, requires_grad=False)\n",
    "    if torch.cuda.is_available():\n",
    "        return z.cuda()\n",
    "    return z"
   ]
  },
  {
   "cell_type": "code",
   "execution_count": 315,
   "metadata": {},
   "outputs": [],
   "source": [
    "def noise(size):\n",
    "    n =  torch.randn(size,2,dtype = torch.float32,requires_grad=False)\n",
    "    if torch.cuda.is_available(): return n.cuda()\n",
    "    return n"
   ]
  },
  {
   "cell_type": "markdown",
   "metadata": {},
   "source": [
    "# TRAINING"
   ]
  },
  {
   "cell_type": "code",
   "execution_count": 316,
   "metadata": {},
   "outputs": [],
   "source": [
    "def train_d(optimizer, real_data, fake_data):\n",
    "    #set optimizer gradients to zero to store fresh gradients\n",
    "    optimizer.zero_grad()\n",
    "    \n",
    "    prediction_real = disc(real_data.float())\n",
    "    error_real = loss(prediction_real, real_data_target(real_data.size(0)))\n",
    "    error_real.backward()\n",
    "    \n",
    "    prediction_fake = disc(fake_data.float())    \n",
    "    error_fake = loss(prediction_fake, fake_data_target(fake_data.size(0)))\n",
    "    error_fake.backward()\n",
    "    \n",
    "    optimizer.step() #update weights\n",
    "    \n",
    "    return error_real + error_fake, prediction_real, prediction_fake    \n",
    "\n",
    "def train_g(optimizer, fake_data):\n",
    "    optimizer.zero_grad()\n",
    "    \n",
    "    prediction = disc(fake_data.float())\n",
    "    error = loss(prediction, real_data_target(prediction.size(0)))\n",
    "    error.backward()\n",
    "    optimizer.step()\n",
    "    return error"
   ]
  },
  {
   "cell_type": "code",
   "execution_count": 317,
   "metadata": {},
   "outputs": [],
   "source": [
    "d_errors = []\n",
    "g_errors = []"
   ]
  },
  {
   "cell_type": "code",
   "execution_count": 323,
   "metadata": {},
   "outputs": [
    {
     "name": "stdout",
     "output_type": "stream",
     "text": [
      "Epoch no : 0 Discriminator error: 0.5913282632827759   Generator error: 1.3341424465179443\n",
      "Epoch no : 10 Discriminator error: 0.6254696249961853   Generator error: 1.308271050453186\n",
      "Epoch no : 20 Discriminator error: 0.6261312365531921   Generator error: 1.317817211151123\n",
      "Epoch no : 30 Discriminator error: 0.7138227820396423   Generator error: 1.3269827365875244\n",
      "Epoch no : 40 Discriminator error: 0.6860413551330566   Generator error: 1.344313621520996\n",
      "Epoch no : 50 Discriminator error: 0.6583520174026489   Generator error: 1.362196445465088\n",
      "Epoch no : 60 Discriminator error: 0.667716920375824   Generator error: 1.3901017904281616\n",
      "Epoch no : 70 Discriminator error: 0.48295682668685913   Generator error: 1.3795169591903687\n",
      "Epoch no : 80 Discriminator error: 0.6329371333122253   Generator error: 1.3613171577453613\n",
      "Epoch no : 90 Discriminator error: 0.5995099544525146   Generator error: 1.3696027994155884\n",
      "Epoch no : 100 Discriminator error: 0.4642152786254883   Generator error: 1.4113534688949585\n",
      "Epoch no : 110 Discriminator error: 0.45331209897994995   Generator error: 1.45767343044281\n",
      "Epoch no : 120 Discriminator error: 0.6602088212966919   Generator error: 1.427241325378418\n",
      "Epoch no : 130 Discriminator error: 0.46801239252090454   Generator error: 1.4420907497406006\n",
      "Epoch no : 140 Discriminator error: 0.5898301601409912   Generator error: 1.4545849561691284\n",
      "Epoch no : 150 Discriminator error: 0.6513919830322266   Generator error: 1.4646161794662476\n",
      "Epoch no : 160 Discriminator error: 0.5138137340545654   Generator error: 1.4673678874969482\n",
      "Epoch no : 170 Discriminator error: 0.58887779712677   Generator error: 1.4909629821777344\n",
      "Epoch no : 180 Discriminator error: 0.770995557308197   Generator error: 1.5180540084838867\n",
      "Epoch no : 190 Discriminator error: 0.5419496297836304   Generator error: 1.5044991970062256\n",
      "Epoch no : 200 Discriminator error: 0.6537021398544312   Generator error: 1.514599323272705\n",
      "Epoch no : 210 Discriminator error: 0.6478909254074097   Generator error: 1.5127325057983398\n",
      "Epoch no : 220 Discriminator error: 0.4450749158859253   Generator error: 1.539571762084961\n",
      "Epoch no : 230 Discriminator error: 0.5403812527656555   Generator error: 1.5173802375793457\n",
      "Epoch no : 240 Discriminator error: 0.4452861547470093   Generator error: 1.579946756362915\n",
      "Epoch no : 250 Discriminator error: 0.4514032006263733   Generator error: 1.5369794368743896\n",
      "Epoch no : 260 Discriminator error: 0.5069639682769775   Generator error: 1.5753982067108154\n",
      "Epoch no : 270 Discriminator error: 0.5891982316970825   Generator error: 1.5993032455444336\n",
      "Epoch no : 280 Discriminator error: 0.6509113311767578   Generator error: 1.5916740894317627\n",
      "Epoch no : 290 Discriminator error: 0.6218321323394775   Generator error: 1.6122688055038452\n",
      "Epoch no : 300 Discriminator error: 0.34371045231819153   Generator error: 1.6151750087738037\n",
      "Epoch no : 310 Discriminator error: 0.5658878087997437   Generator error: 1.6046146154403687\n",
      "Epoch no : 320 Discriminator error: 0.4589425325393677   Generator error: 1.6497538089752197\n",
      "Epoch no : 330 Discriminator error: 0.5089869499206543   Generator error: 1.6503791809082031\n",
      "Epoch no : 340 Discriminator error: 0.5080955624580383   Generator error: 1.6780602931976318\n",
      "Epoch no : 350 Discriminator error: 0.4097830057144165   Generator error: 1.6853641271591187\n",
      "Epoch no : 360 Discriminator error: 0.516303539276123   Generator error: 1.6359443664550781\n",
      "Epoch no : 370 Discriminator error: 0.36497458815574646   Generator error: 1.6648225784301758\n",
      "Epoch no : 380 Discriminator error: 0.49945640563964844   Generator error: 1.6816575527191162\n",
      "Epoch no : 390 Discriminator error: 0.5271087884902954   Generator error: 1.687090277671814\n",
      "Epoch no : 400 Discriminator error: 0.41840171813964844   Generator error: 1.7246440649032593\n",
      "Epoch no : 410 Discriminator error: 0.32880109548568726   Generator error: 1.7253230810165405\n",
      "Epoch no : 420 Discriminator error: 0.457834929227829   Generator error: 1.77873957157135\n",
      "Epoch no : 430 Discriminator error: 0.4217485785484314   Generator error: 1.7538201808929443\n",
      "Epoch no : 440 Discriminator error: 0.48088133335113525   Generator error: 1.727684736251831\n",
      "Epoch no : 450 Discriminator error: 0.3253309726715088   Generator error: 1.739276647567749\n",
      "Epoch no : 460 Discriminator error: 0.3153547942638397   Generator error: 1.8253276348114014\n",
      "Epoch no : 470 Discriminator error: 0.5326798558235168   Generator error: 1.8054800033569336\n",
      "Epoch no : 480 Discriminator error: 0.32823646068573   Generator error: 1.7917248010635376\n",
      "Epoch no : 490 Discriminator error: 0.36656153202056885   Generator error: 1.7852230072021484\n",
      "Epoch no : 500 Discriminator error: 0.3894466757774353   Generator error: 1.8135643005371094\n",
      "Epoch no : 510 Discriminator error: 0.238837331533432   Generator error: 1.8142465353012085\n",
      "Epoch no : 520 Discriminator error: 0.45610809326171875   Generator error: 1.853735327720642\n",
      "Epoch no : 530 Discriminator error: 0.3191766142845154   Generator error: 1.8123672008514404\n",
      "Epoch no : 540 Discriminator error: 0.32545846700668335   Generator error: 1.8498589992523193\n",
      "Epoch no : 550 Discriminator error: 0.4058542251586914   Generator error: 1.8395678997039795\n",
      "Epoch no : 560 Discriminator error: 0.3929702043533325   Generator error: 1.8805078268051147\n",
      "Epoch no : 570 Discriminator error: 0.4557333290576935   Generator error: 1.896471381187439\n",
      "Epoch no : 580 Discriminator error: 0.3630005419254303   Generator error: 1.9204790592193604\n",
      "Epoch no : 590 Discriminator error: 0.23337793350219727   Generator error: 1.901161789894104\n",
      "Epoch no : 600 Discriminator error: 0.25678661465644836   Generator error: 1.9210889339447021\n",
      "Epoch no : 610 Discriminator error: 0.23455452919006348   Generator error: 1.9200092554092407\n",
      "Epoch no : 620 Discriminator error: 0.3567804992198944   Generator error: 1.9079606533050537\n",
      "Epoch no : 630 Discriminator error: 0.24238431453704834   Generator error: 1.941912293434143\n",
      "Epoch no : 640 Discriminator error: 0.3102875351905823   Generator error: 1.9574315547943115\n",
      "Epoch no : 650 Discriminator error: 0.2402602583169937   Generator error: 1.9603385925292969\n",
      "Epoch no : 660 Discriminator error: 0.20149007439613342   Generator error: 1.9934812784194946\n",
      "Epoch no : 670 Discriminator error: 0.2926121950149536   Generator error: 1.9363418817520142\n",
      "Epoch no : 680 Discriminator error: 0.2811453938484192   Generator error: 2.0320839881896973\n",
      "Epoch no : 690 Discriminator error: 0.2444268763065338   Generator error: 2.0019617080688477\n",
      "Epoch no : 700 Discriminator error: 0.2931535840034485   Generator error: 2.007251501083374\n",
      "Epoch no : 710 Discriminator error: 0.25247281789779663   Generator error: 2.034165143966675\n",
      "Epoch no : 720 Discriminator error: 0.33264148235321045   Generator error: 2.030338764190674\n",
      "Epoch no : 730 Discriminator error: 0.24797040224075317   Generator error: 2.0377795696258545\n",
      "Epoch no : 740 Discriminator error: 0.31654268503189087   Generator error: 2.047452211380005\n",
      "Epoch no : 750 Discriminator error: 0.22488054633140564   Generator error: 2.0582900047302246\n",
      "Epoch no : 760 Discriminator error: 0.2376050055027008   Generator error: 2.082303524017334\n",
      "Epoch no : 770 Discriminator error: 0.3930409550666809   Generator error: 2.060154438018799\n",
      "Epoch no : 780 Discriminator error: 0.30086588859558105   Generator error: 2.079956531524658\n",
      "Epoch no : 790 Discriminator error: 0.22600433230400085   Generator error: 2.0732924938201904\n",
      "Epoch no : 800 Discriminator error: 0.17649948596954346   Generator error: 2.0944433212280273\n",
      "Epoch no : 810 Discriminator error: 0.2459675520658493   Generator error: 2.099961757659912\n",
      "Epoch no : 820 Discriminator error: 0.2694281339645386   Generator error: 2.099205493927002\n",
      "Epoch no : 830 Discriminator error: 0.3542177379131317   Generator error: 2.148413896560669\n",
      "Epoch no : 840 Discriminator error: 0.18848322331905365   Generator error: 2.142456531524658\n",
      "Epoch no : 850 Discriminator error: 0.17903687059879303   Generator error: 2.144225835800171\n",
      "Epoch no : 860 Discriminator error: 0.2652822732925415   Generator error: 2.127802848815918\n",
      "Epoch no : 870 Discriminator error: 0.2810640335083008   Generator error: 2.171516180038452\n"
     ]
    },
    {
     "name": "stdout",
     "output_type": "stream",
     "text": [
      "Epoch no : 880 Discriminator error: 0.18400883674621582   Generator error: 2.1611533164978027\n",
      "Epoch no : 890 Discriminator error: 0.3507247567176819   Generator error: 2.176555633544922\n",
      "Epoch no : 900 Discriminator error: 0.35051700472831726   Generator error: 2.2038397789001465\n",
      "Epoch no : 910 Discriminator error: 0.2769126296043396   Generator error: 2.1881611347198486\n",
      "Epoch no : 920 Discriminator error: 0.19523358345031738   Generator error: 2.206996202468872\n",
      "Epoch no : 930 Discriminator error: 0.19831058382987976   Generator error: 2.226503849029541\n",
      "Epoch no : 940 Discriminator error: 0.25242576003074646   Generator error: 2.189037561416626\n",
      "Epoch no : 950 Discriminator error: 0.37309813499450684   Generator error: 2.2574572563171387\n",
      "Epoch no : 960 Discriminator error: 0.19687438011169434   Generator error: 2.227956771850586\n",
      "Epoch no : 970 Discriminator error: 0.20817509293556213   Generator error: 2.244586944580078\n",
      "Epoch no : 980 Discriminator error: 0.2537105083465576   Generator error: 2.219691276550293\n",
      "Epoch no : 990 Discriminator error: 0.25355663895606995   Generator error: 2.2510080337524414\n",
      "Epoch no : 1000 Discriminator error: 0.1854778230190277   Generator error: 2.2851767539978027\n",
      "Epoch no : 1010 Discriminator error: 0.3041701912879944   Generator error: 2.2770192623138428\n",
      "Epoch no : 1020 Discriminator error: 0.45294055342674255   Generator error: 2.3023879528045654\n",
      "Epoch no : 1030 Discriminator error: 0.20489820837974548   Generator error: 2.298083782196045\n",
      "Epoch no : 1040 Discriminator error: 0.2284172773361206   Generator error: 2.25165057182312\n",
      "Epoch no : 1050 Discriminator error: 0.15060311555862427   Generator error: 2.3324503898620605\n",
      "Epoch no : 1060 Discriminator error: 0.26411670446395874   Generator error: 2.284298896789551\n",
      "Epoch no : 1070 Discriminator error: 0.12260088324546814   Generator error: 2.288813352584839\n",
      "Epoch no : 1080 Discriminator error: 0.23177655041217804   Generator error: 2.2871270179748535\n",
      "Epoch no : 1090 Discriminator error: 0.15748707950115204   Generator error: 2.327951192855835\n",
      "Epoch no : 1100 Discriminator error: 0.41061970591545105   Generator error: 2.3173420429229736\n",
      "Epoch no : 1110 Discriminator error: 0.31233492493629456   Generator error: 2.3251616954803467\n",
      "Epoch no : 1120 Discriminator error: 0.173170268535614   Generator error: 2.387768268585205\n",
      "Epoch no : 1130 Discriminator error: 0.21819758415222168   Generator error: 2.334188222885132\n",
      "Epoch no : 1140 Discriminator error: 0.19954390823841095   Generator error: 2.382873058319092\n",
      "Epoch no : 1150 Discriminator error: 0.16871266067028046   Generator error: 2.3562979698181152\n",
      "Epoch no : 1160 Discriminator error: 0.1896073967218399   Generator error: 2.393996477127075\n",
      "Epoch no : 1170 Discriminator error: 0.24731941521167755   Generator error: 2.393542766571045\n",
      "Epoch no : 1180 Discriminator error: 0.15203000605106354   Generator error: 2.3883659839630127\n",
      "Epoch no : 1190 Discriminator error: 0.26597386598587036   Generator error: 2.4185562133789062\n",
      "Epoch no : 1200 Discriminator error: 0.46052804589271545   Generator error: 2.4214072227478027\n",
      "Epoch no : 1210 Discriminator error: 0.2525750994682312   Generator error: 2.429643392562866\n",
      "Epoch no : 1220 Discriminator error: 0.396420419216156   Generator error: 2.4400877952575684\n",
      "Epoch no : 1230 Discriminator error: 0.12072929739952087   Generator error: 2.4100348949432373\n",
      "Epoch no : 1240 Discriminator error: 0.14142058789730072   Generator error: 2.378878593444824\n",
      "Epoch no : 1250 Discriminator error: 0.26213499903678894   Generator error: 2.419774293899536\n",
      "Epoch no : 1260 Discriminator error: 0.157446026802063   Generator error: 2.454068660736084\n",
      "Epoch no : 1270 Discriminator error: 0.2872244119644165   Generator error: 2.4792001247406006\n",
      "Epoch no : 1280 Discriminator error: 0.22612975537776947   Generator error: 2.4446346759796143\n",
      "Epoch no : 1290 Discriminator error: 0.2839122712612152   Generator error: 2.4387402534484863\n",
      "Epoch no : 1300 Discriminator error: 0.21505065262317657   Generator error: 2.4645941257476807\n",
      "Epoch no : 1310 Discriminator error: 0.362155020236969   Generator error: 2.521183490753174\n",
      "Epoch no : 1320 Discriminator error: 0.11639279127120972   Generator error: 2.4716198444366455\n",
      "Epoch no : 1330 Discriminator error: 0.19427241384983063   Generator error: 2.521317958831787\n",
      "Epoch no : 1340 Discriminator error: 0.11967906355857849   Generator error: 2.4953644275665283\n",
      "Epoch no : 1350 Discriminator error: 0.28668347001075745   Generator error: 2.5218684673309326\n",
      "Epoch no : 1360 Discriminator error: 0.3422216773033142   Generator error: 2.5648369789123535\n",
      "Epoch no : 1370 Discriminator error: 0.12914077937602997   Generator error: 2.5470683574676514\n",
      "Epoch no : 1380 Discriminator error: 0.12842637300491333   Generator error: 2.4853169918060303\n",
      "Epoch no : 1390 Discriminator error: 0.11811227351427078   Generator error: 2.5527050495147705\n",
      "Epoch no : 1400 Discriminator error: 0.12893646955490112   Generator error: 2.5602805614471436\n",
      "Epoch no : 1410 Discriminator error: 0.29214155673980713   Generator error: 2.5200893878936768\n",
      "Epoch no : 1420 Discriminator error: 0.1016584187746048   Generator error: 2.555973529815674\n",
      "Epoch no : 1430 Discriminator error: 0.22837573289871216   Generator error: 2.555129051208496\n",
      "Epoch no : 1440 Discriminator error: 0.1255660057067871   Generator error: 2.6174302101135254\n",
      "Epoch no : 1450 Discriminator error: 0.16974899172782898   Generator error: 2.580289363861084\n",
      "Epoch no : 1460 Discriminator error: 0.31001710891723633   Generator error: 2.593228340148926\n",
      "Epoch no : 1470 Discriminator error: 0.13774621486663818   Generator error: 2.5750956535339355\n",
      "Epoch no : 1480 Discriminator error: 0.2383819818496704   Generator error: 2.56599760055542\n",
      "Epoch no : 1490 Discriminator error: 0.1796809732913971   Generator error: 2.572640895843506\n"
     ]
    }
   ],
   "source": [
    "for epoch in range(EPOCHS):\n",
    "    for n_batch,(real_batch,_) in enumerate(training_gen):\n",
    "        #Train disc\n",
    "        real_data = real_batch\n",
    "        if torch.cuda.is_available(): \n",
    "            real_data = real_data.cuda()\n",
    "        \n",
    "        fake_data = gen(noise(real_data.size(0)).float()).detach()\n",
    "        \n",
    "#       for times in range(d_steps):\n",
    "        d_error, d_predr, d_predf = train_d(d_opt,real_data,fake_data)\n",
    "#       print(d_error)\n",
    "        \n",
    "        #train gen\n",
    "        \n",
    "        fake_data = gen(noise(real_data.size(0)).float()).detach()\n",
    "#         print(fake_data.shape)\n",
    "        g_error = train_g(g_opt,fake_data)\n",
    "    d_errors.append(d_error)\n",
    "    g_errors.append(g_error)\n",
    "    if epoch%10==0:\n",
    "        print(\"Epoch no : {} Discriminator error: {}   Generator error: {}\".format(epoch,d_error,g_error))"
   ]
  },
  {
   "cell_type": "markdown",
   "metadata": {},
   "source": [
    "# PLOTTING"
   ]
  },
  {
   "cell_type": "code",
   "execution_count": 324,
   "metadata": {},
   "outputs": [
    {
     "data": {
      "text/plain": [
       "[<matplotlib.lines.Line2D at 0x22788a07978>]"
      ]
     },
     "execution_count": 324,
     "metadata": {},
     "output_type": "execute_result"
    },
    {
     "data": {
      "image/png": "[encoded data removed]",
      "text/plain": [
       "<Figure size 1440x432 with 1 Axes>"
      ]
     },
     "metadata": {},
     "output_type": "display_data"
    }
   ],
   "source": [
    "fig,ax = plt.subplots(figsize = (20,6))\n",
    "ax.plot(d_errors)\n",
    "ax.plot(g_errors)"
   ]
  },
  {
   "cell_type": "code",
   "execution_count": 274,
   "metadata": {},
   "outputs": [
    {
     "data": {
      "text/plain": [
       "<Figure size 432x288 with 0 Axes>"
      ]
     },
     "metadata": {},
     "output_type": "display_data"
    }
   ],
   "source": [
    "plt.savefig('2800epochs_model1.png')"
   ]
  },
  {
   "cell_type": "code",
   "execution_count": 281,
   "metadata": {},
   "outputs": [],
   "source": [
    "torch.save(disc.state_dict(),'models/model1.pt')"
   ]
  },
  {
   "cell_type": "code",
   "execution_count": 284,
   "metadata": {},
   "outputs": [],
   "source": [
    "m = torch.load('models/model1.pt')"
   ]
  },
  {
   "cell_type": "code",
   "execution_count": 287,
   "metadata": {},
   "outputs": [
    {
     "data": {
      "text/plain": [
       "tensor([-0.2178,  0.4005, -0.4102,  0.3267, -0.3745,  0.4669, -1.9859, -0.1809,\n",
       "        -0.4065,  0.3878], device='cuda:0')"
      ]
     },
     "execution_count": 287,
     "metadata": {},
     "output_type": "execute_result"
    }
   ],
   "source": [
    "m['hidden.0.bias']"
   ]
  },
  {
   "cell_type": "code",
   "execution_count": 336,
   "metadata": {},
   "outputs": [],
   "source": [
    "b = np.array(gen(noise(200)).detach().cpu())"
   ]
  },
  {
   "cell_type": "code",
   "execution_count": 337,
   "metadata": {},
   "outputs": [
    {
     "data": {
      "image/png": "[encoded data removed]",
      "text/plain": [
       "<Figure size 432x288 with 1 Axes>"
      ]
     },
     "metadata": {},
     "output_type": "display_data"
    }
   ],
   "source": [
    "plt.scatter(b[:,0],b[:,1])\n",
    "plt.show()"
   ]
  },
  {
   "cell_type": "code",
   "execution_count": 305,
   "metadata": {},
   "outputs": [
    {
     "data": {
      "text/plain": [
       "<Figure size 432x288 with 0 Axes>"
      ]
     },
     "metadata": {},
     "output_type": "display_data"
    }
   ],
   "source": [
    "plt.savefig('0_epoch_generator_data.png')"
   ]
  },
  {
   "cell_type": "code",
   "execution_count": 320,
   "metadata": {},
   "outputs": [],
   "source": [
    "c = np.array(gen(noise(200)).detach().cpu())"
   ]
  },
  {
   "cell_type": "code",
   "execution_count": 332,
   "metadata": {},
   "outputs": [
    {
     "data": {
      "image/png": "[encoded data removed]",
      "text/plain": [
       "<Figure size 432x288 with 1 Axes>"
      ]
     },
     "metadata": {},
     "output_type": "display_data"
    }
   ],
   "source": [
    "plt.scatter(c[:,0],c[:,1])\n",
    "plt.show()"
   ]
  },
  {
   "cell_type": "code",
   "execution_count": 333,
   "metadata": {},
   "outputs": [
    {
     "data": {
      "text/plain": [
       "<Figure size 432x288 with 0 Axes>"
      ]
     },
     "metadata": {},
     "output_type": "display_data"
    }
   ],
   "source": [
    "plt.savefig('1500_epoch_generator_data.png')"
   ]
  },
  {
   "cell_type": "code",
   "execution_count": 325,
   "metadata": {},
   "outputs": [],
   "source": [
    "d = np.array(gen(noise(200)).detach().cpu())"
   ]
  },
  {
   "cell_type": "code",
   "execution_count": 326,
   "metadata": {},
   "outputs": [
    {
     "data": {
      "text/plain": [
       "<matplotlib.collections.PathCollection at 0x2278b00c080>"
      ]
     },
     "execution_count": 326,
     "metadata": {},
     "output_type": "execute_result"
    },
    {
     "data": {
      "image/png": "[encoded data removed]",
      "text/plain": [
       "<Figure size 432x288 with 1 Axes>"
      ]
     },
     "metadata": {},
     "output_type": "display_data"
    }
   ],
   "source": [
    "plt.scatter(d[:,0],d[:,1])"
   ]
  },
  {
   "cell_type": "code",
   "execution_count": 327,
   "metadata": {},
   "outputs": [
    {
     "data": {
      "text/plain": [
       "<Figure size 432x288 with 0 Axes>"
      ]
     },
     "metadata": {},
     "output_type": "display_data"
    }
   ],
   "source": [
    "plt.savefig('3000_epoch_generator_data.png')"
   ]
  },
  {
   "cell_type": "code",
   "execution_count": 393,
   "metadata": {},
   "outputs": [],
   "source": [
    "# pp = []\n",
    "# for i in range(200):\n",
    "#     pp.append(torch.load('data/'+ str(i+1) + '.pt'))"
   ]
  },
  {
   "cell_type": "code",
   "execution_count": 392,
   "metadata": {},
   "outputs": [],
   "source": [
    "# pp = [list(np.array(x)) for x in pp]\n",
    "# pp = torch.tensor(pp)\n",
    "# pp = np.array(pp.detach().cpu())\n",
    "# plt.scatter(pp[:,0],pp[:,1])\n",
    "# plt.scatter(b[:,0],b[:,1])"
   ]
  },
  {
   "cell_type": "code",
   "execution_count": 394,
   "metadata": {},
   "outputs": [],
   "source": [
    "# torch.tensor(pp)"
   ]
  },
  {
   "cell_type": "code",
   "execution_count": null,
   "metadata": {},
   "outputs": [],
   "source": []
  }
 ],
 "metadata": {
  "kernelspec": {
   "display_name": "Python 3",
   "language": "python",
   "name": "python3"
  },
  "language_info": {
   "codemirror_mode": {
    "name": "ipython",
    "version": 3
   },
   "file_extension": ".py",
   "mimetype": "text/x-python",
   "name": "python",
   "nbconvert_exporter": "python",
   "pygments_lexer": "ipython3",
   "version": "3.6.5"
  }
 },
 "nbformat": 4,
 "nbformat_minor": 2
}
