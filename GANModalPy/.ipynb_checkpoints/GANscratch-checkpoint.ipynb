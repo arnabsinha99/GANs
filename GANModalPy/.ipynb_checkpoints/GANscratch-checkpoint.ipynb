{
 "cells": [
  {
   "cell_type": "code",
   "execution_count": 121,
   "metadata": {},
   "outputs": [],
   "source": [
    "import numpy as np\n",
    "import matplotlib.pyplot as plt\n",
    "%matplotlib inline\n",
    "import torch\n",
    "from torch import nn, optim\n",
    "from torch.autograd.variable import Variable\n",
    "import logging as log\n",
    "from torchvision import transforms, datasets\n",
    "BATCH_SIZE = 250\n",
    "DATASET = 1500"
   ]
  },
  {
   "cell_type": "markdown",
   "metadata": {},
   "source": [
    "# DATASET"
   ]
  },
  {
   "cell_type": "code",
   "execution_count": 122,
   "metadata": {},
   "outputs": [],
   "source": [
    "class GaussianDataset(torch.utils.data.Dataset):\n",
    "    def __init__(self,ids,labels):\n",
    "        self.ids = ids\n",
    "        self.labels = labels\n",
    "    \n",
    "    def __len__(self):\n",
    "        return len(self.ids)\n",
    "    \n",
    "    def __getitem__(self,index):\n",
    "        Id = self.ids[index]\n",
    "        X = torch.load('data/' + str(Id)+'.pt')\n",
    "        y = self.labels[Id]\n",
    "        \n",
    "        return X,y"
   ]
  },
  {
   "cell_type": "code",
   "execution_count": 123,
   "metadata": {},
   "outputs": [],
   "source": [
    "ids = np.arange(1,DATASET + 1,1)\n",
    "labels = np.full(DATASET,1) #simply labels\n",
    "labels = dict([(x,y) for x,y in zip(ids,labels)]) # id to label mapping\n",
    "training = GaussianDataset(ids,labels)"
   ]
  },
  {
   "cell_type": "code",
   "execution_count": 124,
   "metadata": {},
   "outputs": [],
   "source": [
    "training_gen = torch.utils.data.DataLoader(training, batch_size=BATCH_SIZE, shuffle=True, num_workers=0)\n",
    "num_batches = len(training_gen)"
   ]
  },
  {
   "cell_type": "code",
   "execution_count": 125,
   "metadata": {},
   "outputs": [
    {
     "data": {
      "text/plain": [
       "6"
      ]
     },
     "execution_count": 125,
     "metadata": {},
     "output_type": "execute_result"
    }
   ],
   "source": [
    "num_batches"
   ]
  },
  {
   "cell_type": "markdown",
   "metadata": {},
   "source": [
    "# NETWORKS"
   ]
  },
  {
   "cell_type": "code",
   "execution_count": 126,
   "metadata": {},
   "outputs": [],
   "source": [
    "class Discriminator(torch.nn.Module):\n",
    "    '''\n",
    "    Single hidden layer discriminator network\n",
    "    '''\n",
    "    def __init__(self):\n",
    "        super(Discriminator,self).__init__()\n",
    "        n_features = 2\n",
    "        n_hidden1 = 10\n",
    "        n_out = 1\n",
    "        \n",
    "        self.hidden = nn.Sequential(nn.Linear(n_features,n_hidden1),nn.LeakyReLU(0.2),nn.Dropout(0.3))\n",
    "        self.out = nn.Sequential(nn.Linear(n_hidden1,n_out),nn.Sigmoid())\n",
    "        \n",
    "    def forward(self,x):\n",
    "        x = self.hidden(x)\n",
    "        x = self.out(x)\n",
    "        return x"
   ]
  },
  {
   "cell_type": "code",
   "execution_count": 127,
   "metadata": {},
   "outputs": [],
   "source": [
    "class Generator(torch.nn.Module):\n",
    "    '''\n",
    "    Single hidden layer generator network\n",
    "    '''\n",
    "    def __init__(self):\n",
    "        super(Generator,self).__init__()\n",
    "        n_features = 2\n",
    "        n_hidden1 = 10\n",
    "        n_hidden2 = 10\n",
    "        n_out = 2\n",
    "        \n",
    "        self.hidden1 = nn.Sequential(nn.Linear(n_features,n_hidden1),nn.LeakyReLU(0.2))\n",
    "        self.hidden2 = nn.Sequential(nn.Linear(n_hidden1,n_hidden2),nn.LeakyReLU(0.2))\n",
    "        self.out = nn.Sequential(nn.Linear(n_hidden2,n_out),nn.Sigmoid())\n",
    "        \n",
    "    def forward(self,x):\n",
    "        x = self.hidden1(x)\n",
    "        x = self.hidden2(x)\n",
    "        x = self.out(x)\n",
    "        return x"
   ]
  },
  {
   "cell_type": "code",
   "execution_count": 128,
   "metadata": {},
   "outputs": [],
   "source": [
    "disc = Discriminator()\n",
    "gen = Generator()\n",
    "\n",
    "if torch.cuda.is_available():\n",
    "    disc.cuda()\n",
    "    gen.cuda()"
   ]
  },
  {
   "cell_type": "markdown",
   "metadata": {},
   "source": [
    "# Optimizer"
   ]
  },
  {
   "cell_type": "code",
   "execution_count": 129,
   "metadata": {},
   "outputs": [],
   "source": [
    "d_opt = optim.Adam(disc.parameters(), lr = 0.0002)\n",
    "g_opt = optim.Adam(gen.parameters(), lr = 0.0002)\n",
    "\n",
    "loss = nn.BCELoss()"
   ]
  },
  {
   "cell_type": "markdown",
   "metadata": {},
   "source": [
    "# CREATING LABELS FOR TRAINING"
   ]
  },
  {
   "cell_type": "code",
   "execution_count": 130,
   "metadata": {},
   "outputs": [],
   "source": [
    "def real_data_target(size):\n",
    "    o = torch.ones(size,1,dtype = torch.float32,requires_grad=False)\n",
    "    if torch.cuda.is_available():\n",
    "        return o.cuda()\n",
    "    return o\n",
    "\n",
    "def fake_data_target(size):\n",
    "    z = torch.zeros(size,1,dtype = torch.float32, requires_grad=False)\n",
    "    if torch.cuda.is_available():\n",
    "        return z.cuda()\n",
    "    return z"
   ]
  },
  {
   "cell_type": "code",
   "execution_count": 131,
   "metadata": {},
   "outputs": [],
   "source": [
    "def noise(size):\n",
    "    n =  torch.randn(size,2,dtype = torch.float32,requires_grad=False)\n",
    "    if torch.cuda.is_available(): return n.cuda()\n",
    "    return n"
   ]
  },
  {
   "cell_type": "markdown",
   "metadata": {},
   "source": [
    "# TRAINING"
   ]
  },
  {
   "cell_type": "code",
   "execution_count": 132,
   "metadata": {},
   "outputs": [],
   "source": [
    "def train_d(optimizer, real_data, fake_data):\n",
    "    #set optimizer gradients to zero to store fresh gradients\n",
    "    optimizer.zero_grad()\n",
    "    \n",
    "    prediction_real = disc(real_data.float())\n",
    "    error_real = loss(prediction_real, real_data_target(real_data.size(0)))\n",
    "    \n",
    "    prediction_fake = disc(fake_data)    \n",
    "    error_fake = loss(prediction_fake, fake_data_target(fake_data.size(0)))\n",
    "    \n",
    "    total_error = (error_real + error_fake)/2\n",
    "    total_error.backward()\n",
    "    optimizer.step() #update weights\n",
    "    \n",
    "    return (error_real + error_fake)/2, prediction_real, prediction_fake    \n",
    "\n",
    "def train_g(optimizer, fake_data):\n",
    "    optimizer.zero_grad()\n",
    "    \n",
    "    prediction = disc(fake_data.float())\n",
    "    error = loss(prediction, real_data_target(prediction.size(0)))\n",
    "    error.backward()\n",
    "    optimizer.step()\n",
    "    return error"
   ]
  },
  {
   "cell_type": "code",
   "execution_count": 143,
   "metadata": {},
   "outputs": [],
   "source": [
    "#number of steps to train discriminator\n",
    "EPOCHS = 1000\n",
    "BATCHES = DATASET/BATCH_SIZE"
   ]
  },
  {
   "cell_type": "code",
   "execution_count": 134,
   "metadata": {},
   "outputs": [],
   "source": [
    "d_errors = []\n",
    "g_errors = []"
   ]
  },
  {
   "cell_type": "code",
   "execution_count": 144,
   "metadata": {},
   "outputs": [
    {
     "name": "stdout",
     "output_type": "stream",
     "text": [
      "Epoch no : 0 Discriminator error: 0.692317008972168   Generator error: 0.7021536827087402\n",
      "Epoch no : 20 Discriminator error: 0.6907321214675903   Generator error: 0.6996122598648071\n",
      "Epoch no : 40 Discriminator error: 0.6905767917633057   Generator error: 0.697640597820282\n",
      "Epoch no : 60 Discriminator error: 0.6944794654846191   Generator error: 0.6923279166221619\n",
      "Epoch no : 80 Discriminator error: 0.6955127120018005   Generator error: 0.6907853484153748\n",
      "Epoch no : 100 Discriminator error: 0.6961321234703064   Generator error: 0.6915572881698608\n",
      "Epoch no : 120 Discriminator error: 0.6981905698776245   Generator error: 0.6883946657180786\n",
      "Epoch no : 140 Discriminator error: 0.6983951330184937   Generator error: 0.6899840235710144\n",
      "Epoch no : 160 Discriminator error: 0.6975376605987549   Generator error: 0.691460132598877\n",
      "Epoch no : 180 Discriminator error: 0.6943830251693726   Generator error: 0.6909736394882202\n",
      "Epoch no : 200 Discriminator error: 0.6917862892150879   Generator error: 0.6968116164207458\n",
      "Epoch no : 220 Discriminator error: 0.6914533376693726   Generator error: 0.6956785917282104\n",
      "Epoch no : 240 Discriminator error: 0.6902973055839539   Generator error: 0.7019657492637634\n",
      "Epoch no : 260 Discriminator error: 0.6885553598403931   Generator error: 0.696679949760437\n",
      "Epoch no : 280 Discriminator error: 0.6911985278129578   Generator error: 0.6934487819671631\n",
      "Epoch no : 300 Discriminator error: 0.691153883934021   Generator error: 0.6953245997428894\n",
      "Epoch no : 320 Discriminator error: 0.693178653717041   Generator error: 0.6951918601989746\n",
      "Epoch no : 340 Discriminator error: 0.691199779510498   Generator error: 0.6987690925598145\n",
      "Epoch no : 360 Discriminator error: 0.6910102367401123   Generator error: 0.6958712339401245\n",
      "Epoch no : 380 Discriminator error: 0.6947783827781677   Generator error: 0.690483033657074\n",
      "Epoch no : 400 Discriminator error: 0.6971068382263184   Generator error: 0.6887516379356384\n",
      "Epoch no : 420 Discriminator error: 0.6953007578849792   Generator error: 0.6886410713195801\n",
      "Epoch no : 440 Discriminator error: 0.6941096186637878   Generator error: 0.6930801868438721\n",
      "Epoch no : 460 Discriminator error: 0.6931697726249695   Generator error: 0.6922759413719177\n",
      "Epoch no : 480 Discriminator error: 0.6954938769340515   Generator error: 0.6931670904159546\n",
      "Epoch no : 500 Discriminator error: 0.6955081224441528   Generator error: 0.6954333186149597\n",
      "Epoch no : 520 Discriminator error: 0.6929372549057007   Generator error: 0.6960088014602661\n",
      "Epoch no : 540 Discriminator error: 0.6912655234336853   Generator error: 0.6989848613739014\n",
      "Epoch no : 560 Discriminator error: 0.691105306148529   Generator error: 0.6973812580108643\n",
      "Epoch no : 580 Discriminator error: 0.6916227340698242   Generator error: 0.6946327686309814\n",
      "Epoch no : 600 Discriminator error: 0.6916911602020264   Generator error: 0.6951056718826294\n",
      "Epoch no : 620 Discriminator error: 0.6927976608276367   Generator error: 0.6938284635543823\n",
      "Epoch no : 640 Discriminator error: 0.6947423815727234   Generator error: 0.6915430426597595\n",
      "Epoch no : 660 Discriminator error: 0.694415807723999   Generator error: 0.693475604057312\n",
      "Epoch no : 680 Discriminator error: 0.694697380065918   Generator error: 0.6910638809204102\n",
      "Epoch no : 700 Discriminator error: 0.6941361427307129   Generator error: 0.6906871795654297\n",
      "Epoch no : 720 Discriminator error: 0.6946440935134888   Generator error: 0.6910326480865479\n",
      "Epoch no : 740 Discriminator error: 0.6928091049194336   Generator error: 0.6925000548362732\n",
      "Epoch no : 760 Discriminator error: 0.6923133730888367   Generator error: 0.6938130259513855\n",
      "Epoch no : 780 Discriminator error: 0.6924036741256714   Generator error: 0.6939575672149658\n",
      "Epoch no : 800 Discriminator error: 0.6920539736747742   Generator error: 0.6948519945144653\n",
      "Epoch no : 820 Discriminator error: 0.6918120384216309   Generator error: 0.6941262483596802\n",
      "Epoch no : 840 Discriminator error: 0.6948563456535339   Generator error: 0.692894458770752\n",
      "Epoch no : 860 Discriminator error: 0.6948714256286621   Generator error: 0.693985104560852\n",
      "Epoch no : 880 Discriminator error: 0.6960477232933044   Generator error: 0.6907052993774414\n",
      "Epoch no : 900 Discriminator error: 0.6965070962905884   Generator error: 0.6904940009117126\n",
      "Epoch no : 920 Discriminator error: 0.6951613426208496   Generator error: 0.691604733467102\n",
      "Epoch no : 940 Discriminator error: 0.6926759481430054   Generator error: 0.6940202713012695\n",
      "Epoch no : 960 Discriminator error: 0.6925801634788513   Generator error: 0.6941835284233093\n",
      "Epoch no : 980 Discriminator error: 0.6924359798431396   Generator error: 0.6950228214263916\n"
     ]
    }
   ],
   "source": [
    "for epoch in range(EPOCHS):\n",
    "    g_err_avg = 0\n",
    "    d_err_avg = 0\n",
    "    for n_batch,(real_batch,_) in enumerate(training_gen):\n",
    "        #generate noise data\n",
    "        noise_data = noise(real_batch.size(0)).float()\n",
    "        fake_data = gen(noise_data).float()\n",
    "        \n",
    "        #Train discriminator\n",
    "        real_data = real_batch\n",
    "        if torch.cuda.is_available(): \n",
    "            real_data = real_data.cuda()\n",
    "        \n",
    "        d_error, d_predr, d_predf = train_d(d_opt,real_data,fake_data.detach())\n",
    "        d_err_avg+=d_error\n",
    "        \n",
    "        #Train generator\n",
    "        g_error = train_g(g_opt,fake_data)\n",
    "        g_err_avg+=g_error\n",
    "        \n",
    "    d_errors.append(d_err_avg/BATCHES)\n",
    "    g_errors.append(g_err_avg/BATCHES)\n",
    "    if epoch%20==0:\n",
    "        print(\"Epoch no : {} Discriminator error: {}   Generator error: {}\".format(epoch,d_err_avg/BATCHES,g_err_avg/BATCHES))"
   ]
  },
  {
   "cell_type": "markdown",
   "metadata": {},
   "source": [
    "# PLOTTING"
   ]
  },
  {
   "cell_type": "code",
   "execution_count": 145,
   "metadata": {},
   "outputs": [
    {
     "data": {
      "image/png": "[encoded data removed]",
      "text/plain": [
       "<Figure size 1440x432 with 1 Axes>"
      ]
     },
     "metadata": {},
     "output_type": "display_data"
    }
   ],
   "source": [
    "#graph comparison\n",
    "fig,ax = plt.subplots(figsize = (20,6))\n",
    "ax.plot(d_errors, label = \"Discriminator\")\n",
    "ax.plot(g_errors, label = \"Generator\")\n",
    "ax.set_xlabel('Epochs')\n",
    "ax.set_ylabel('Logloss error')\n",
    "ax.legend()\n",
    "plt.show()"
   ]
  },
  {
   "cell_type": "code",
   "execution_count": 146,
   "metadata": {},
   "outputs": [],
   "source": [
    "def comparedata(pp):\n",
    "    pp = [list(np.array(x)) for x in pp]\n",
    "    pp = torch.tensor(pp)\n",
    "    pp = np.array(pp.detach().cpu())\n",
    "    plt.scatter(pp[:,0],pp[:,1])\n",
    "    \n",
    "    #gen data\n",
    "    b = np.array(gen(noise(DATASET)).detach().cpu())\n",
    "    \n",
    "    #compare\n",
    "    plt.scatter(b[:,0],b[:,1])\n",
    "    plt.show()"
   ]
  },
  {
   "cell_type": "code",
   "execution_count": 147,
   "metadata": {},
   "outputs": [
    {
     "data": {
      "image/png": "[encoded data removed]",
      "text/plain": [
       "<Figure size 432x288 with 1 Axes>"
      ]
     },
     "metadata": {},
     "output_type": "display_data"
    }
   ],
   "source": [
    "pp = []\n",
    "for i in range(DATASET):\n",
    "    pp.append(torch.load('data/'+ str(i+1) + '.pt'))\n",
    "comparedata(pp)"
   ]
  },
  {
   "cell_type": "code",
   "execution_count": 113,
   "metadata": {},
   "outputs": [],
   "source": [
    "torch.save(disc.state_dict(),'models/model4/disc.pt')\n",
    "torch.save(gen.state_dict(),'models/model4/gen.pt')"
   ]
  },
  {
   "cell_type": "code",
   "execution_count": null,
   "metadata": {},
   "outputs": [],
   "source": []
  }
 ],
 "metadata": {
  "kernelspec": {
   "display_name": "Python 3",
   "language": "python",
   "name": "python3"
  }
 },
 "nbformat": 4,
 "nbformat_minor": 2
}
