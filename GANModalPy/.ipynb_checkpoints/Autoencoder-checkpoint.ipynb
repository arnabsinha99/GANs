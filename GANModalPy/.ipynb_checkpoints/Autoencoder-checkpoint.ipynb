{
 "cells": [
  {
   "cell_type": "code",
   "execution_count": 177,
   "metadata": {},
   "outputs": [],
   "source": [
    "import numpy as np\n",
    "import matplotlib.pyplot as plt\n",
    "%matplotlib inline\n",
    "import torch\n",
    "from torch import nn, optim\n",
    "from torch.autograd.variable import Variable\n",
    "import logging as log\n",
    "from torchvision import transforms, datasets\n",
    "BATCH_SIZE = 100\n",
    "DATASET = 500"
   ]
  },
  {
   "cell_type": "code",
   "execution_count": 178,
   "metadata": {},
   "outputs": [],
   "source": [
    "class GaussianDataset(torch.utils.data.Dataset):\n",
    "    def __init__(self,ids):\n",
    "        self.ids = ids\n",
    "    \n",
    "    def __len__(self):\n",
    "        return len(self.ids)\n",
    "    \n",
    "    def __getitem__(self,index):\n",
    "        Id = self.ids[index]\n",
    "        X = torch.load('data2/' + str(Id)+'.pt')        \n",
    "        return X"
   ]
  },
  {
   "cell_type": "code",
   "execution_count": 179,
   "metadata": {},
   "outputs": [],
   "source": [
    "ids = np.arange(1,DATASET + 1,1)\n",
    "training = GaussianDataset(ids)"
   ]
  },
  {
   "cell_type": "code",
   "execution_count": 180,
   "metadata": {},
   "outputs": [],
   "source": [
    "training_gen = torch.utils.data.DataLoader(training, batch_size=BATCH_SIZE, shuffle=True, num_workers=0)\n",
    "num_batches = len(training_gen)"
   ]
  },
  {
   "cell_type": "markdown",
   "metadata": {},
   "source": [
    "# NETWORKS"
   ]
  },
  {
   "cell_type": "code",
   "execution_count": 181,
   "metadata": {},
   "outputs": [],
   "source": [
    "class Encoder(torch.nn.Module):\n",
    "    '''\n",
    "    Single hidden layer generator network\n",
    "    '''\n",
    "    def __init__(self):\n",
    "        super(Encoder,self).__init__()\n",
    "        n_features = 2\n",
    "        n_hidden1 = 10\n",
    "        n_hidden2 = 10\n",
    "        n_out = 2\n",
    "        \n",
    "        self.hidden1 = nn.Sequential(nn.Linear(n_features,n_hidden1),nn.LeakyReLU(0.2))\n",
    "        self.hidden2 = nn.Sequential(nn.Linear(n_hidden1,n_hidden2),nn.LeakyReLU(0.2))\n",
    "        self.out = nn.Sequential(nn.Linear(n_hidden2,n_out),nn.Sigmoid())\n",
    "        \n",
    "    def forward(self,x):\n",
    "        x = self.hidden1(x)\n",
    "        x = self.hidden2(x)\n",
    "        x = self.out(x)\n",
    "        return x"
   ]
  },
  {
   "cell_type": "code",
   "execution_count": 182,
   "metadata": {},
   "outputs": [],
   "source": [
    "encoder = Encoder()\n",
    "if torch.cuda.is_available():\n",
    "    encoder.cuda()\n",
    "enc_opt = optim.Adam(encoder.parameters(), lr = 0.01)"
   ]
  },
  {
   "cell_type": "code",
   "execution_count": 183,
   "metadata": {},
   "outputs": [
    {
     "data": {
      "text/plain": [
       "Encoder(\n",
       "  (hidden1): Sequential(\n",
       "    (0): Linear(in_features=2, out_features=10, bias=True)\n",
       "    (1): LeakyReLU(negative_slope=0.2)\n",
       "  )\n",
       "  (hidden2): Sequential(\n",
       "    (0): Linear(in_features=10, out_features=10, bias=True)\n",
       "    (1): LeakyReLU(negative_slope=0.2)\n",
       "  )\n",
       "  (out): Sequential(\n",
       "    (0): Linear(in_features=10, out_features=2, bias=True)\n",
       "    (1): Sigmoid()\n",
       "  )\n",
       ")"
      ]
     },
     "execution_count": 183,
     "metadata": {},
     "output_type": "execute_result"
    }
   ],
   "source": [
    "encoder"
   ]
  },
  {
   "cell_type": "code",
   "execution_count": 184,
   "metadata": {},
   "outputs": [],
   "source": [
    "criterion = torch.nn.MSELoss()"
   ]
  },
  {
   "cell_type": "code",
   "execution_count": 185,
   "metadata": {},
   "outputs": [],
   "source": [
    "error_arr = []"
   ]
  },
  {
   "cell_type": "code",
   "execution_count": 186,
   "metadata": {},
   "outputs": [],
   "source": [
    "EPOCHS = 700"
   ]
  },
  {
   "cell_type": "code",
   "execution_count": 187,
   "metadata": {},
   "outputs": [
    {
     "name": "stdout",
     "output_type": "stream",
     "text": [
      "Epoch: 0 , Error: 0.1692201942205429\n",
      "Epoch: 10 , Error: 0.04381713271141052\n",
      "Epoch: 20 , Error: 0.01452464796602726\n",
      "Epoch: 30 , Error: 0.014231817796826363\n",
      "Epoch: 40 , Error: 0.012619070708751678\n",
      "Epoch: 50 , Error: 0.012082240544259548\n",
      "Epoch: 60 , Error: 0.01254262961447239\n",
      "Epoch: 70 , Error: 0.012097182683646679\n",
      "Epoch: 80 , Error: 0.013344630599021912\n",
      "Epoch: 90 , Error: 0.012676653452217579\n",
      "Epoch: 100 , Error: 0.011752625927329063\n",
      "Epoch: 110 , Error: 0.012115160934627056\n",
      "Epoch: 120 , Error: 0.01301315613090992\n",
      "Epoch: 130 , Error: 0.01078853290528059\n",
      "Epoch: 140 , Error: 0.011818435974419117\n",
      "Epoch: 150 , Error: 0.011464295908808708\n",
      "Epoch: 160 , Error: 0.012035870924592018\n",
      "Epoch: 170 , Error: 0.010556675493717194\n",
      "Epoch: 180 , Error: 0.011475259438157082\n",
      "Epoch: 190 , Error: 0.010920782573521137\n",
      "Epoch: 200 , Error: 0.010706819593906403\n",
      "Epoch: 210 , Error: 0.011270199902355671\n",
      "Epoch: 220 , Error: 0.010477295145392418\n",
      "Epoch: 230 , Error: 0.012987503781914711\n",
      "Epoch: 240 , Error: 0.010761433281004429\n",
      "Epoch: 250 , Error: 0.010689674876630306\n",
      "Epoch: 260 , Error: 0.010473090223968029\n",
      "Epoch: 270 , Error: 0.01082589291036129\n",
      "Epoch: 280 , Error: 0.011059406213462353\n",
      "Epoch: 290 , Error: 0.010507180355489254\n",
      "Epoch: 300 , Error: 0.011764817871153355\n",
      "Epoch: 310 , Error: 0.010275845415890217\n",
      "Epoch: 320 , Error: 0.010332859121263027\n",
      "Epoch: 330 , Error: 0.011437256820499897\n",
      "Epoch: 340 , Error: 0.010435611009597778\n",
      "Epoch: 350 , Error: 0.010698611848056316\n",
      "Epoch: 360 , Error: 0.01063101552426815\n",
      "Epoch: 370 , Error: 0.010729390196502209\n",
      "Epoch: 380 , Error: 0.010730464942753315\n",
      "Epoch: 390 , Error: 0.01048838347196579\n",
      "Epoch: 400 , Error: 0.011165103875100613\n",
      "Epoch: 410 , Error: 0.011887669563293457\n",
      "Epoch: 420 , Error: 0.010793754830956459\n",
      "Epoch: 430 , Error: 0.011147416196763515\n",
      "Epoch: 440 , Error: 0.010895728133618832\n",
      "Epoch: 450 , Error: 0.010538301430642605\n",
      "Epoch: 460 , Error: 0.010235964320600033\n",
      "Epoch: 470 , Error: 0.010593641549348831\n",
      "Epoch: 480 , Error: 0.010304924100637436\n",
      "Epoch: 490 , Error: 0.010316289961338043\n",
      "Epoch: 500 , Error: 0.011086550541222095\n",
      "Epoch: 510 , Error: 0.010459206067025661\n",
      "Epoch: 520 , Error: 0.010937400162220001\n",
      "Epoch: 530 , Error: 0.010230155661702156\n",
      "Epoch: 540 , Error: 0.010143672116100788\n",
      "Epoch: 550 , Error: 0.01078950148075819\n",
      "Epoch: 560 , Error: 0.010195893235504627\n",
      "Epoch: 570 , Error: 0.010667901486158371\n",
      "Epoch: 580 , Error: 0.010690500028431416\n",
      "Epoch: 590 , Error: 0.011076473630964756\n",
      "Epoch: 600 , Error: 0.010451233945786953\n",
      "Epoch: 610 , Error: 0.01175331138074398\n",
      "Epoch: 620 , Error: 0.010669149458408356\n",
      "Epoch: 630 , Error: 0.010555052198469639\n",
      "Epoch: 640 , Error: 0.01204249169677496\n",
      "Epoch: 650 , Error: 0.010513762943446636\n",
      "Epoch: 660 , Error: 0.01092124730348587\n",
      "Epoch: 670 , Error: 0.011550580151379108\n",
      "Epoch: 680 , Error: 0.010163902305066586\n",
      "Epoch: 690 , Error: 0.009793142788112164\n"
     ]
    }
   ],
   "source": [
    "for epoch in range(EPOCHS):\n",
    "    err_avg = 0\n",
    "    for batch_num, real_batch in enumerate(training_gen):\n",
    "        enc_opt.zero_grad()\n",
    "        real_data = real_batch.cuda()\n",
    "        pred_data = encoder(real_data.float())\n",
    "        \n",
    "        error = torch.sqrt(criterion(pred_data.float(), real_data.float()))\n",
    "        error.backward()\n",
    "        enc_opt.step()\n",
    "        err_avg+=error\n",
    "    \n",
    "    err_avg/=num_batches\n",
    "    error_arr.append(err_avg)\n",
    "    if epoch%10==0:\n",
    "        print(\"Epoch: {} , Error: {}\".format(epoch,err_avg))"
   ]
  },
  {
   "cell_type": "code",
   "execution_count": 188,
   "metadata": {},
   "outputs": [],
   "source": [
    "def comparedata(dataset):\n",
    "    dataset = [list(np.array(x)) for x in dataset]\n",
    "    dataset = torch.tensor(dataset).cuda()\n",
    "    #encoder data\n",
    "    b = np.array(encoder(dataset).detach().cpu())\n",
    "    dataset = torch.sigmoid(dataset)\n",
    "    dataset = np.array(dataset.detach().cpu())\n",
    "    fig,ax = plt.subplots(1,2,figsize=(20,10))\n",
    "    ax[0].scatter(dataset[:,0],dataset[:,1],color = 'red')\n",
    "    #compare\n",
    "    print(b.shape)\n",
    "    ax[1].scatter(b[:,0],b[:,1], color = 'black')\n",
    "    plt.show()"
   ]
  },
  {
   "cell_type": "code",
   "execution_count": 189,
   "metadata": {},
   "outputs": [
    {
     "name": "stdout",
     "output_type": "stream",
     "text": [
      "(500, 2)\n"
     ]
    },
    {
     "data": {
      "image/png": "[encoded data removed]",
      "text/plain": [
       "<Figure size 1440x720 with 2 Axes>"
      ]
     },
     "metadata": {},
     "output_type": "display_data"
    }
   ],
   "source": [
    "pp = []\n",
    "for i in range(DATASET):\n",
    "    pp.append(torch.load('data2/'+ str(i+1) + '.pt'))\n",
    "comparedata(pp)"
   ]
  },
  {
   "cell_type": "code",
   "execution_count": null,
   "metadata": {},
   "outputs": [],
   "source": []
  }
 ],
 "metadata": {
  "kernelspec": {
   "display_name": "Python 3",
   "language": "python",
   "name": "python3"
  },
  "language_info": {
   "codemirror_mode": {
    "name": "ipython",
    "version": 3
   },
   "file_extension": ".py",
   "mimetype": "text/x-python",
   "name": "python",
   "nbconvert_exporter": "python",
   "pygments_lexer": "ipython3",
   "version": "3.6.5"
  }
 },
 "nbformat": 4,
 "nbformat_minor": 2
}
